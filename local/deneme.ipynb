{
 "cells": [
  {
   "cell_type": "code",
   "execution_count": 1,
   "id": "d48e56a2",
   "metadata": {},
   "outputs": [],
   "source": [
    "import gzip\n",
    "import pickle\n",
    "from MapClass import SemanticMap\n",
    "import numpy as np\n",
    "import matplotlib.pyplot as plt\n",
    "from matplotlib.colors import ListedColormap\n",
    "from lightglue import viz2d\n",
    "from keypoint_extractor import KeypointExtractor"
   ]
  },
  {
   "cell_type": "code",
   "execution_count": null,
   "id": "019175fb",
   "metadata": {},
   "outputs": [],
   "source": [
    "semantic_map = SemanticMap()\n",
    "# Print the attributes of the loaded object\n",
    "print(\"Attributes of the loaded object:\")\n",
    "attributes = semantic_map.__dict__.keys()\n",
    "for attr in attributes:\n",
    "    print(attr)\n",
    "    # Print the value of the attribute\n",
    "    print(type(getattr(semantic_map, attr)))\n"
   ]
  },
  {
   "cell_type": "code",
   "execution_count": null,
   "id": "002cd11b",
   "metadata": {},
   "outputs": [],
   "source": [
    "len(semantic_map.rgb_observations)"
   ]
  },
  {
   "cell_type": "code",
   "execution_count": null,
   "id": "9d464bb5",
   "metadata": {},
   "outputs": [],
   "source": [
    "with open('semantic_map_00800-TEEsavR23oF.pkl', 'rb') as f:\n",
    "    semantic_map = pickle.load(f)\n",
    "print(\"Attributes of the loaded object:\")\n",
    "attributes = semantic_map.__dict__.keys()\n",
    "for attr in attributes:\n",
    "    print(attr)\n",
    "    # Print the value of the attribute\n",
    "    print(type(getattr(semantic_map, attr)))"
   ]
  },
  {
   "cell_type": "code",
   "execution_count": null,
   "id": "ef60aae2",
   "metadata": {},
   "outputs": [],
   "source": [
    "print(f\"The number of observations is {len(semantic_map.rgb_observations)}\")\n",
    "print(f\"The number of semantic predictions is {len(semantic_map.semantic_predictions)}\")\n",
    "print(f\"The number of semantic gt is {len(semantic_map.semantic_observations)}\")"
   ]
  },
  {
   "cell_type": "code",
   "execution_count": null,
   "id": "5484e2c3",
   "metadata": {},
   "outputs": [],
   "source": [
    "print(f\"Shape of top_down map: {semantic_map.free_space_mask.shape}\")\n",
    "plt.imshow(semantic_map.free_space_mask, cmap='gray')\n",
    "plt.axis('off')\n",
    "\"\"\"\n",
    "for pose in semantic_map.poses:\n",
    "    plt.plot(pose[1], pose[0], 'ro')\n",
    "\"\"\"\n",
    "plt.show()"
   ]
  },
  {
   "cell_type": "code",
   "execution_count": null,
   "id": "1f138f16",
   "metadata": {},
   "outputs": [],
   "source": []
  },
  {
   "cell_type": "code",
   "execution_count": null,
   "id": "36248837",
   "metadata": {},
   "outputs": [],
   "source": [
    "pose_idx = 0\n",
    "rgb_img = semantic_map.get_rgb_observation(pose_idx).copy()\n",
    "\n",
    "print(f\"RGB image type : {type(rgb_img)}\")\n",
    "print(f\"RGB image shape: {rgb_img.shape}\")\n",
    "\n",
    "sem_img = semantic_map.get_semantic_observation(pose_idx).copy()\n",
    "print(f\"Semantic image type : {type(sem_img)}\")\n",
    "print(f\"Semantic image shape: {sem_img.shape}\")\n"
   ]
  },
  {
   "cell_type": "code",
   "execution_count": null,
   "id": "d75e6082",
   "metadata": {},
   "outputs": [],
   "source": [
    "semantic_map.display_rgb_observation(pose_idx)"
   ]
  },
  {
   "cell_type": "code",
   "execution_count": null,
   "id": "80b1b423",
   "metadata": {},
   "outputs": [],
   "source": [
    "instance_id_to_name = semantic_map.instance_id_to_name.copy()\n",
    "print(f\"Type of instance_id_to_name: {type(instance_id_to_name)}\")\n",
    "print(f\"Number of instances: {len(instance_id_to_name)}\")\n",
    "print(f\"Instance ID to name mapping: {instance_id_to_name}\")"
   ]
  },
  {
   "cell_type": "code",
   "execution_count": null,
   "id": "40d36171",
   "metadata": {},
   "outputs": [],
   "source": []
  },
  {
   "cell_type": "code",
   "execution_count": null,
   "id": "f1caf637",
   "metadata": {},
   "outputs": [],
   "source": [
    "# find the keys in the dictionary that holds the value 'bed'\n",
    "keys = [k for k, v in instance_id_to_name.items() if v == 'bed']\n",
    "print(f\"Keys for 'bed': {keys}\")"
   ]
  },
  {
   "cell_type": "code",
   "execution_count": null,
   "id": "f22450b6",
   "metadata": {},
   "outputs": [],
   "source": [
    "bed_pixels = np.where(sem_img == keys[0])\n",
    "# paint the bed pixels in black in the RGB image\n",
    "rgb_img[bed_pixels] = [0, 0, 0]\n",
    "# plot the image\n",
    "plt.imshow(rgb_img)\n",
    "plt.axis('off')"
   ]
  },
  {
   "cell_type": "code",
   "execution_count": null,
   "id": "1cbfbc5e",
   "metadata": {},
   "outputs": [],
   "source": [
    "with open(\"semantic_map_00800-TEEsavR23oF.pkl\", \"rb\") as f:\n",
    "    semantic_map = pickle.load(f)\n",
    "prediction_masks = semantic_map.semantic_prediction_masks.copy()\n",
    "print(f\"The type of predictions is {type(prediction_masks)}\")"
   ]
  },
  {
   "cell_type": "code",
   "execution_count": null,
   "id": "f5398960",
   "metadata": {},
   "outputs": [],
   "source": [
    "semantic_map.display_semantic_observation(0)"
   ]
  },
  {
   "cell_type": "code",
   "execution_count": null,
   "id": "f3269c69",
   "metadata": {},
   "outputs": [],
   "source": [
    "first_prediction_mask = prediction_masks[pose_idx]\n",
    "print(f\"The type of the variable is {type(first_prediction_mask)}\")\n",
    "print(f\"The shape of the variable is {first_prediction_mask.shape}\")"
   ]
  },
  {
   "cell_type": "code",
   "execution_count": null,
   "id": "e1e3a7b6",
   "metadata": {},
   "outputs": [],
   "source": [
    "segment_info = semantic_map.semantic_prediction_instance_ids\n",
    "print(f\"The type of the variable is {type(segment_info)}\")\n",
    "print(f\"The shape of the variable is {segment_info.shape}\")\n",
    "first_segmentation_info = segment_info[pose_idx]\n",
    "print(f\"The type of the variable is {type(first_segmentation_info)}\")\n",
    "print(f\"The first segmentation info is {first_segmentation_info}\")\n",
    "print(f\"The first segmentation label is {first_segmentation_info[0]}\")\n",
    "print(f\"The first segmentation object prediction is {first_segmentation_info[-1]}\")"
   ]
  },
  {
   "cell_type": "markdown",
   "id": "a5516ec0",
   "metadata": {},
   "source": [
    "SEGMENTS INFOYU AÇIKLA"
   ]
  },
  {
   "cell_type": "code",
   "execution_count": null,
   "id": "6f2722d6",
   "metadata": {},
   "outputs": [],
   "source": [
    "sem_pred_mask = first_prediction_mask.numpy()\n",
    "print(f\"The tensor is converted to {type(sem_pred_mask)}\")\n",
    "min_val, max_val = np.min(sem_pred_mask), np.max(sem_pred_mask)\n",
    "print(f\"Min value: {min_val}, Max value: {max_val}\")"
   ]
  },
  {
   "cell_type": "code",
   "execution_count": null,
   "id": "d1eff645",
   "metadata": {},
   "outputs": [],
   "source": [
    "cmap = ListedColormap(np.random.rand(max_val+1, 3))\n",
    "plt.figure(figsize=(6, 12))\n",
    "plt.imshow(sem_pred_mask, cmap=cmap)\n",
    "plt.axis('off')\n",
    "plt.show()"
   ]
  },
  {
   "cell_type": "markdown",
   "id": "65fb2400",
   "metadata": {},
   "source": [
    "### BURADA BIR DUR"
   ]
  },
  {
   "cell_type": "code",
   "execution_count": null,
   "id": "6233c5de",
   "metadata": {},
   "outputs": [],
   "source": []
  },
  {
   "cell_type": "code",
   "execution_count": null,
   "id": "f2dfdd97",
   "metadata": {},
   "outputs": [],
   "source": [
    "with open(\"semantic_map_00800-TEEsavR23oF.pkl\", \"rb\") as f:\n",
    "    semantic_map = pickle.load(f)\n"
   ]
  },
  {
   "cell_type": "code",
   "execution_count": null,
   "id": "73c9d5a3",
   "metadata": {},
   "outputs": [],
   "source": [
    "keypoints = semantic_map.keypoints\n",
    "descriptors = semantic_map.descriptors\n",
    "\n",
    "keypoints_at_pose = keypoints[pose_idx]\n",
    "print(f\"The type of keypoints is {type(keypoints_at_pose)}\")\n",
    "print(f\"The shape of keypoints is {keypoints_at_pose.shape}\")\n"
   ]
  },
  {
   "cell_type": "code",
   "execution_count": null,
   "id": "2adfe40b",
   "metadata": {},
   "outputs": [],
   "source": [
    "print(f\"Descriptors shape: {descriptors[pose_idx].shape}\")"
   ]
  },
  {
   "cell_type": "code",
   "execution_count": null,
   "id": "7e231c53",
   "metadata": {},
   "outputs": [],
   "source": [
    "# show the keypoints on the RGB image\n",
    "plt.imshow(rgb_img)\n",
    "plt.axis('off')\n",
    "for keypoint in keypoints_at_pose:\n",
    "    plt.plot(keypoint[0], keypoint[1], 'ro', markersize=1)\n",
    "plt.show()\n",
    "print(f\"The type of descriptors is {type(descriptors)}\")"
   ]
  },
  {
   "cell_type": "code",
   "execution_count": null,
   "id": "6be0f3b1",
   "metadata": {},
   "outputs": [],
   "source": [
    "extractor = KeypointExtractor()\n",
    "matches = extractor.match_keypoints(semantic_map.keypoint_full_outputs,0,5)\n",
    "print(matches.keys())\n"
   ]
  },
  {
   "cell_type": "code",
   "execution_count": null,
   "id": "46b75bd4",
   "metadata": {},
   "outputs": [],
   "source": [
    "print(type(matches[\"matches\"][0]))\n",
    "matches[\"matches\"][0]"
   ]
  },
  {
   "cell_type": "code",
   "execution_count": null,
   "id": "7fdae89f",
   "metadata": {},
   "outputs": [],
   "source": [
    "keypoints1 = semantic_map.keypoints[0]\n",
    "keypoints2 = semantic_map.keypoints[5]\n",
    "\n",
    "mkpts1 = keypoints1[matches[\"matches\"][0][:2, 0]]\n",
    "mkpts2 = keypoints2[matches[\"matches\"][0][:2, 1]]\n"
   ]
  },
  {
   "cell_type": "code",
   "execution_count": null,
   "id": "c9c930c8",
   "metadata": {},
   "outputs": [],
   "source": [
    "axes = viz2d.plot_images([semantic_map.get_rgb_observation(0), semantic_map.get_rgb_observation(5)])\n",
    "viz2d.plot_matches(mkpts1, mkpts2, color=\"lime\", lw=0.5)"
   ]
  },
  {
   "cell_type": "code",
   "execution_count": null,
   "id": "5c086c3e",
   "metadata": {},
   "outputs": [],
   "source": [
    "\n",
    "    "
   ]
  },
  {
   "cell_type": "code",
   "execution_count": null,
   "id": "0256b2cc",
   "metadata": {},
   "outputs": [],
   "source": []
  },
  {
   "cell_type": "code",
   "execution_count": 14,
   "id": "0f054772",
   "metadata": {},
   "outputs": [
    {
     "data": {
      "text/plain": [
       "tensor([[14, 14, 14,  ..., 14, 14, 14],\n",
       "        [14, 14, 14,  ..., 14, 14, 14],\n",
       "        [14, 14, 14,  ..., 14, 14, 14],\n",
       "        ...,\n",
       "        [ 1,  1,  1,  ...,  1,  1,  1],\n",
       "        [ 1,  1,  1,  ...,  1,  1,  1],\n",
       "        [ 1,  1,  1,  ...,  1,  1,  1]], dtype=torch.int32)"
      ]
     },
     "execution_count": 14,
     "metadata": {},
     "output_type": "execute_result"
    }
   ],
   "source": [
    "prediction_masks[0]"
   ]
  },
  {
   "cell_type": "code",
   "execution_count": null,
   "id": "77add258",
   "metadata": {},
   "outputs": [],
   "source": []
  }
 ],
 "metadata": {
  "kernelspec": {
   "display_name": "Python 3",
   "language": "python",
   "name": "python3"
  },
  "language_info": {
   "codemirror_mode": {
    "name": "ipython",
    "version": 3
   },
   "file_extension": ".py",
   "mimetype": "text/x-python",
   "name": "python",
   "nbconvert_exporter": "python",
   "pygments_lexer": "ipython3",
   "version": "3.10.2"
  }
 },
 "nbformat": 4,
 "nbformat_minor": 5
}
