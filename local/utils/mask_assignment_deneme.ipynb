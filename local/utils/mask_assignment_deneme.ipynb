{
 "cells": [
  {
   "cell_type": "code",
   "execution_count": 4,
   "id": "6d4b612d",
   "metadata": {},
   "outputs": [],
   "source": [
    "import numpy as np\n",
    "from scipy.cluster.hierarchy import linkage,fcluster\n",
    "import pickle\n",
    "import os\n",
    "import sys\n",
    "sys.path.append(os.path.abspath(os.path.join(os.getcwd(), '..')))\n",
    "\n",
    "import MapClass\n"
   ]
  },
  {
   "cell_type": "code",
   "execution_count": 902,
   "id": "f95c185a",
   "metadata": {},
   "outputs": [],
   "source": [
    "def method2(semantic_map,feature_num,distance_type,n_clusters,merge_method=\"ward\"):\n",
    "    print(\"Calculating Distances\")\n",
    "    distances, valid_masks = generate_distance_matrix_subspace(semantic_map,feature_num,distance_type)\n",
    "    print(distances)\n",
    "    print(\"Clustering...\")\n",
    "    linked = linkage(distances, method=merge_method)\n",
    "    clusters = fcluster(linked, t=n_clusters, criterion='maxclust')\n",
    "    print(\"Done!\")\n",
    "    return clusters, valid_masks\n",
    "\n",
    "def generate_distance_matrix_subspace(semantic_map,k,distance_type=\"projection\"):\n",
    "    mask_ids = []\n",
    "    subspaces = []\n",
    "    for img_id, local_masks in semantic_map.refined_prediction_masks.items():\n",
    "        for mask_id in local_masks.keys():\n",
    "            _,valid_indices = semantic_map.get_valid_keypoints(img_id,mask_id)\n",
    "            try:\n",
    "                score = semantic_map.gt_pred_correspondences[img_id][mask_id][1]\n",
    "            except:\n",
    "                continue\n",
    "            if score < 0.5:\n",
    "                continue\n",
    "            data_points = semantic_map.descriptors[img_id][valid_indices].copy()\n",
    "            if data_points.shape[0] < k:\n",
    "                continue\n",
    "            subspaces.append(get_subspace(data_points.T,k))\n",
    "            mask_ids.append((img_id,mask_id))\n",
    "    distances = np.zeros((len(subspaces), len(subspaces)))\n",
    "\n",
    "    # Compute the pairwise distances only for the upper triangle (including diagonal)\n",
    "    for i in range(len(subspaces)):\n",
    "        for j in range(i, len(subspaces)):  # j starts from i to avoid redundant calculations\n",
    "            if distance_type == \"projection\":\n",
    "                dist = projection_distance(subspaces[i], subspaces[j])\n",
    "            elif distance_type == \"chordal_distance\":\n",
    "                dist = chordal_distance(subspaces[i], subspaces[j])\n",
    "            if i == j:\n",
    "                dist = 0\n",
    "            distances[i, j] = dist\n",
    "            distances[j, i] = dist\n",
    "    return distances, mask_ids\n",
    "\n",
    "def get_subspace(M,k):\n",
    "    \"\"\"\n",
    "    Computes a k-dimensional orthonormal basis for the subspace spanned by the columns of M\n",
    "    using Singular Value Decomposition (SVD).\n",
    "\n",
    "    The function first centers the data in M by subtracting the mean of each row (feature),\n",
    "    then performs SVD to identify the top-k principal components (left singular vectors),\n",
    "    which form an orthonormal basis for the desired k-dimensional subspace.\n",
    "\n",
    "    Parameters:\n",
    "    ----------\n",
    "    M : np.ndarray\n",
    "        A 2D NumPy array of shape (d, n), where d is the dimensionality of each data point\n",
    "        and n is the number of data points.\n",
    "    k : int\n",
    "        The number of leading components to extract (i.e., the dimensionality of the subspace).\n",
    "\n",
    "    Returns:\n",
    "    -------\n",
    "    np.ndarray\n",
    "        A (d, k) NumPy array whose columns form an orthonormal basis for the k-dimensional subspace.\n",
    "    \"\"\"\n",
    "\n",
    "    M = M - np.mean(M, axis=1, keepdims=True)  # zero-mean across points\n",
    "    # Perform SVD\n",
    "    U, _, _ = np.linalg.svd(M, full_matrices=False)\n",
    "    # Take the top-k left singular vectors => basis for k-dimensional subspace\n",
    "    return U[:, :k]\n",
    "\n",
    "def projection_distance(U, V):\n",
    "    \"\"\"\n",
    "    Computes the projection (or subspace) distance between two subspaces represented by orthonormal bases U and V.\n",
    "\n",
    "    The distance is defined as the Frobenius norm of the difference between the projection matrices of the subspaces.\n",
    "    This measure is invariant to the choice of basis and reflects how different the two subspaces are.\n",
    "\n",
    "    Parameters:\n",
    "    ----------\n",
    "    U : np.ndarray\n",
    "        A (d, k1) matrix whose columns form an orthonormal basis for a k1-dimensional subspace in R^d.\n",
    "    V : np.ndarray\n",
    "        A (d, k2) matrix whose columns form an orthonormal basis for a k2-dimensional subspace in R^d.\n",
    "\n",
    "    Returns:\n",
    "    -------\n",
    "    float\n",
    "        The Frobenius norm of the difference between the projection matrices of U and V.\n",
    "    \"\"\"\n",
    "    P_U = U @ U.T\n",
    "    P_V = V @ V.T\n",
    "    return np.linalg.norm(P_U - P_V, 'fro')\n",
    "\n",
    "def chordal_distance(U, V):\n",
    "    \"\"\"\n",
    "    Computes the chordal distance between two subspaces represented by orthonormal bases U and V.\n",
    "\n",
    "    The chordal distance is based on the principal angles between subspaces, and is defined as\n",
    "    the square root of the sum of the squared sine values of those angles. It provides a measure \n",
    "    of similarity between subspaces, with a value of 0 indicating identical subspaces.\n",
    "\n",
    "    Parameters:\n",
    "    ----------\n",
    "    U : np.ndarray\n",
    "        A (d, k1) matrix with orthonormal columns representing a k1-dimensional subspace in R^d.\n",
    "    V : np.ndarray\n",
    "        A (d, k2) matrix with orthonormal columns representing a k2-dimensional subspace in R^d.\n",
    "\n",
    "    Returns:\n",
    "    -------\n",
    "    float\n",
    "        The chordal distance between the two subspaces.\n",
    "    \"\"\"\n",
    "    M = U.T @ V\n",
    "    # Use numpy.linalg.svd\n",
    "    sigma = np.linalg.svd(M, compute_uv=False)\n",
    "    sin_squared = 1 - sigma**2\n",
    "    return np.sqrt(np.sum(sin_squared))"
   ]
  },
  {
   "cell_type": "code",
   "execution_count": 559,
   "id": "3fc375a4",
   "metadata": {},
   "outputs": [],
   "source": [
    "with open('../../temp/clean.pkl','rb') as f:\n",
    "    semantic_map = pickle.load(f)\n",
    "object_dict = semantic_map.group_by_matched_label()\n",
    "sorted_object_dict = dict(sorted(object_dict.items()))"
   ]
  },
  {
   "cell_type": "code",
   "execution_count": 1151,
   "id": "dd0504f5",
   "metadata": {},
   "outputs": [
    {
     "name": "stdout",
     "output_type": "stream",
     "text": [
      "[(0, 0), (5, 0), (7, 0), (8, 0), (9, 2), (10, 0), (11, 1), (12, 2), (13, 2), (14, 0), (19, 2), (20, 1), (25, 2), (26, 3), (27, 2), (28, 1), (29, 2), (30, 10), (31, 0), (36, 2), (37, 1), (38, 1), (39, 2), (40, 2), (41, 0), (42, 6), (53, 1), (54, 1), (55, 1), (56, 1), (70, 0), (71, 0), (72, 0), (73, 0)]\n"
     ]
    }
   ],
   "source": [
    "target = (0, 0)\n",
    "\n",
    "# Find keys where the target tuple is in the value list\n",
    "matching_keys = [k for k, v in sorted_object_dict.items() if target in v]\n",
    "print(sorted_object_dict[matching_keys[0]])"
   ]
  },
  {
   "cell_type": "code",
   "execution_count": 1222,
   "id": "c3a5f810",
   "metadata": {},
   "outputs": [
    {
     "name": "stdout",
     "output_type": "stream",
     "text": [
      "549\n"
     ]
    }
   ],
   "source": [
    "distances, valid_masks = generate_distance_matrix_subspace(semantic_map, 15, \"projection\")\n",
    "print(len(valid_masks))"
   ]
  },
  {
   "cell_type": "code",
   "execution_count": 1168,
   "id": "aae8464f",
   "metadata": {},
   "outputs": [
    {
     "name": "stdout",
     "output_type": "stream",
     "text": [
      "False match at (0, 2) and (44, 0)\n",
      "False match at (0, 2) and (45, 1)\n",
      "False match at (1, 5) and (23, 4)\n",
      "False match at (2, 1) and (19, 4)\n",
      "False match at (2, 1) and (25, 5)\n",
      "False match at (2, 1) and (54, 3)\n",
      "False match at (3, 1) and (54, 3)\n",
      "False match at (4, 3) and (30, 1)\n",
      "False match at (4, 3) and (42, 8)\n",
      "False match at (5, 1) and (45, 1)\n",
      "False match at (6, 0) and (11, 5)\n",
      "False match at (6, 0) and (40, 0)\n",
      "False match at (6, 0) and (46, 1)\n",
      "False match at (6, 2) and (42, 8)\n",
      "False match at (7, 1) and (45, 1)\n",
      "False match at (10, 1) and (45, 1)\n",
      "False match at (12, 4) and (25, 8)\n",
      "False match at (17, 0) and (52, 0)\n",
      "False match at (17, 0) and (69, 0)\n",
      "False match at (17, 2) and (46, 1)\n",
      "False match at (17, 2) and (61, 3)\n",
      "False match at (22, 0) and (52, 0)\n",
      "False match at (23, 0) and (51, 1)\n",
      "False match at (23, 0) and (52, 0)\n",
      "False match at (23, 4) and (26, 6)\n",
      "False match at (23, 4) and (27, 6)\n",
      "False match at (23, 10) and (52, 6)\n",
      "False match at (24, 1) and (50, 1)\n",
      "False match at (24, 1) and (51, 1)\n",
      "False match at (24, 1) and (52, 0)\n",
      "False match at (24, 2) and (32, 1)\n",
      "False match at (24, 2) and (46, 1)\n",
      "False match at (25, 3) and (7, 1)\n",
      "False match at (25, 8) and (12, 4)\n",
      "False match at (25, 8) and (26, 6)\n",
      "False match at (25, 8) and (27, 6)\n",
      "False match at (25, 8) and (36, 7)\n",
      "False match at (25, 8) and (37, 5)\n",
      "False match at (25, 8) and (54, 9)\n",
      "False match at (25, 8) and (55, 6)\n",
      "False match at (30, 12) and (41, 8)\n",
      "False match at (32, 0) and (17, 0)\n",
      "False match at (33, 1) and (51, 1)\n",
      "False match at (34, 0) and (50, 1)\n",
      "False match at (34, 0) and (51, 1)\n",
      "False match at (36, 7) and (25, 8)\n",
      "False match at (37, 5) and (25, 8)\n",
      "False match at (41, 10) and (41, 8)\n",
      "False match at (43, 0) and (5, 1)\n",
      "False match at (43, 0) and (7, 1)\n",
      "False match at (43, 0) and (8, 1)\n",
      "False match at (43, 0) and (10, 1)\n",
      "False match at (43, 0) and (11, 2)\n",
      "False match at (44, 0) and (0, 2)\n",
      "False match at (44, 0) and (5, 1)\n",
      "False match at (44, 0) and (10, 1)\n",
      "False match at (44, 0) and (13, 3)\n",
      "False match at (45, 1) and (0, 2)\n",
      "False match at (45, 1) and (5, 1)\n",
      "False match at (45, 1) and (7, 1)\n",
      "False match at (45, 1) and (8, 1)\n",
      "False match at (45, 1) and (10, 1)\n",
      "False match at (45, 1) and (11, 2)\n",
      "False match at (48, 1) and (50, 1)\n",
      "False match at (49, 2) and (50, 1)\n",
      "False match at (50, 1) and (23, 0)\n",
      "False match at (50, 1) and (24, 1)\n",
      "False match at (50, 1) and (32, 1)\n",
      "False match at (50, 1) and (33, 1)\n",
      "False match at (50, 1) and (34, 0)\n",
      "False match at (50, 1) and (47, 1)\n",
      "False match at (50, 1) and (48, 1)\n",
      "False match at (50, 1) and (61, 3)\n",
      "False match at (50, 1) and (62, 3)\n",
      "False match at (51, 1) and (22, 0)\n",
      "False match at (51, 1) and (23, 0)\n",
      "False match at (51, 1) and (32, 1)\n",
      "False match at (51, 1) and (33, 1)\n",
      "False match at (51, 10) and (52, 6)\n",
      "False match at (52, 0) and (17, 0)\n",
      "False match at (52, 0) and (22, 0)\n",
      "False match at (52, 6) and (51, 10)\n",
      "False match at (53, 5) and (10, 1)\n",
      "False match at (53, 5) and (11, 2)\n",
      "False match at (53, 5) and (13, 3)\n",
      "False match at (53, 6) and (72, 6)\n",
      "False match at (54, 9) and (25, 8)\n",
      "False match at (57, 0) and (11, 2)\n",
      "False match at (60, 2) and (10, 1)\n",
      "False match at (61, 9) and (123, 3)\n",
      "False match at (61, 9) and (131, 5)\n",
      "False match at (69, 0) and (16, 0)\n",
      "False match at (69, 0) and (17, 0)\n",
      "False match at (71, 5) and (5, 1)\n",
      "False match at (71, 5) and (10, 1)\n",
      "False match at (71, 5) and (13, 3)\n",
      "False match at (72, 2) and (13, 3)\n",
      "False match at (88, 6) and (140, 4)\n",
      "False match at (88, 11) and (29, 10)\n",
      "False match at (88, 11) and (88, 1)\n",
      "False match at (90, 7) and (140, 4)\n",
      "False match at (95, 6) and (140, 4)\n",
      "False match at (104, 5) and (137, 13)\n",
      "False match at (107, 11) and (110, 4)\n",
      "False match at (110, 4) and (39, 9)\n",
      "False match at (110, 4) and (107, 11)\n",
      "False match at (110, 4) and (129, 4)\n",
      "False match at (131, 13) and (86, 15)\n",
      "False match at (140, 4) and (20, 6)\n",
      "False match at (140, 4) and (90, 7)\n",
      "5464\n",
      "110\n"
     ]
    }
   ],
   "source": [
    "correct_counter = 0\n",
    "false_counter = 0\n",
    "object_list = []\n",
    "for index0, item0 in enumerate(valid_masks):\n",
    "    cost = distances[index0,:]\n",
    "    non_zero_mean = cost[cost != 0].mean()\n",
    "    cost[cost == 0] = non_zero_mean\n",
    "    anomalies = z_score_anomaly(cost)\n",
    "    if anomalies.shape[0]>0:\n",
    "        for anomaly in anomalies:\n",
    "            target = valid_masks[index0]\n",
    "            matching_keys = [k for k, v in sorted_object_dict.items() if target in v]\n",
    "            object_list.append((target,valid_masks[anomaly]))\n",
    "            if valid_masks[anomaly] in sorted_object_dict[matching_keys[0]]:\n",
    "                # print(f\"Correct match found between {target} and {valid_masks[anomaly]}\")\n",
    "                correct_counter += 1\n",
    "            else:\n",
    "                print(f\"False match at {target} and {valid_masks[anomaly]}\")\n",
    "                false_counter += 1\n",
    "\n",
    "print(correct_counter)\n",
    "print(false_counter)    \n",
    "\n",
    "\n",
    "    "
   ]
  },
  {
   "cell_type": "code",
   "execution_count": 1227,
   "id": "acdfc5ac",
   "metadata": {},
   "outputs": [
    {
     "name": "stderr",
     "output_type": "stream",
     "text": [
      "C:\\Users\\Afiyet Olsun\\AppData\\Local\\Temp\\ipykernel_6368\\2833526760.py:1: ClusterWarning: The symmetric non-negative hollow observation matrix looks suspiciously like an uncondensed distance matrix\n",
      "  linked = linkage(distances, method=\"average\")\n"
     ]
    }
   ],
   "source": [
    "linked = linkage(distances, method=\"average\")"
   ]
  },
  {
   "cell_type": "code",
   "execution_count": 1112,
   "id": "e0224e59",
   "metadata": {},
   "outputs": [
    {
     "data": {
      "text/plain": [
       "79"
      ]
     },
     "execution_count": 1112,
     "metadata": {},
     "output_type": "execute_result"
    }
   ],
   "source": [
    "clusters = fcluster(linked, t=4, criterion='distance')\n",
    "len(np.unique(clusters))"
   ]
  },
  {
   "cell_type": "code",
   "execution_count": 1228,
   "id": "db44d74b",
   "metadata": {},
   "outputs": [
    {
     "name": "stdout",
     "output_type": "stream",
     "text": [
      "0.761384335154827\n"
     ]
    },
    {
     "data": {
      "image/png": "[encoded data removed]",
      "text/plain": [
       "<Figure size 432x288 with 1 Axes>"
      ]
     },
     "metadata": {
      "needs_background": "light"
     },
     "output_type": "display_data"
    }
   ],
   "source": [
    "percent_succeses = []\n",
    "percent_ignores = []\n",
    "for num in range(10,549):\n",
    "    clusters = fcluster(linked, t=num, criterion='maxclust')\n",
    "\n",
    "    single_instances = 0\n",
    "    true_instances = 0\n",
    "    all_instances = len(np.unique(clusters))\n",
    "    for label in np.unique(clusters):\n",
    "        # Get the indices for the current cluster\n",
    "        indices = np.where(clusters == label)[0]  # Extract the array from the tuple\n",
    "        if len(indices)==1:\n",
    "            single_instances += 1\n",
    "            continue\n",
    "        object_labels = [semantic_map.gt_pred_correspondences[valid_masks[idx][0]][valid_masks[idx][1]][0] for idx in indices]\n",
    "        all_equal = len(set(object_labels)) == 1\n",
    "        if all_equal:\n",
    "            true_instances += len(object_labels)\n",
    "        else:\n",
    "            object_names = [semantic_map.instance_id_to_name[obj_label] for obj_label in object_labels]\n",
    "         \n",
    "            if len(set(object_names)) == 1:\n",
    "                true_instances += len(object_labels)\n",
    "            \n",
    "            else:\n",
    "                counter = Counter(object_names)\n",
    "                # Find the most common string\n",
    "                most_common = counter.most_common(1)[0]  # Returns a tuple: (element, count)\n",
    "                if 1-(most_common[1]/len(object_names)) < 0.2:\n",
    "                    true_instances += most_common[1]\n",
    "           \n",
    "\n",
    "    percent_succeses.append((single_instances+true_instances)/len(valid_masks))\n",
    "    percent_ignores.append(single_instances/len(valid_masks))\n",
    "print(percent_succeses[15])\n",
    "import matplotlib.pyplot as plt\n",
    "plt.plot(range(10,549),percent_succeses)\n",
    "plt.xticks(range(10,540,40))\n",
    "# plt.plot(range(20,150),percent_ignores)\n",
    "plt.show()"
   ]
  },
  {
   "cell_type": "code",
   "execution_count": 1260,
   "id": "ae3c764e",
   "metadata": {},
   "outputs": [
    {
     "data": {
      "text/plain": [
       "(81, 1.0)"
      ]
     },
     "execution_count": 1260,
     "metadata": {},
     "output_type": "execute_result"
    }
   ],
   "source": [
    "np.argmax(percent_succeses),np.max(percent_succeses)"
   ]
  },
  {
   "cell_type": "code",
   "execution_count": 637,
   "id": "2701886a",
   "metadata": {},
   "outputs": [
    {
     "data": {
      "text/plain": [
       "14.000000000000002"
      ]
     },
     "execution_count": 637,
     "metadata": {},
     "output_type": "execute_result"
    }
   ],
   "source": [
    "percent_ignores[117]*549"
   ]
  },
  {
   "cell_type": "code",
   "execution_count": 1264,
   "id": "bec1b9ee",
   "metadata": {},
   "outputs": [],
   "source": [
    "clusters = fcluster(linked, t=92, criterion='maxclust')"
   ]
  },
  {
   "cell_type": "code",
   "execution_count": 1265,
   "id": "be65765b",
   "metadata": {},
   "outputs": [
    {
     "name": "stdout",
     "output_type": "stream",
     "text": [
      "The number of objects to find after filter is 32\n"
     ]
    }
   ],
   "source": [
    "pred_dict = {}\n",
    "for object_label, masks_list in sorted_object_dict.items():\n",
    "    for masks in masks_list:\n",
    "        if masks in valid_masks:\n",
    "            index = valid_masks.index(masks)\n",
    "            if object_label not in pred_dict:\n",
    "                pred_dict[object_label] = []\n",
    "            pred_dict[object_label].append(clusters[index])\n",
    "print(f\"The number of objects to find after filter is {len(pred_dict)}\")"
   ]
  },
  {
   "cell_type": "code",
   "execution_count": 1266,
   "id": "ed2dc9b8",
   "metadata": {},
   "outputs": [],
   "source": [
    "pred_dict = {}\n",
    "for label in np.unique(clusters):\n",
    "    # Get the indices for the current cluster\n",
    "    indices = np.where(clusters == label)[0]  # Extract the array from the tuple\n",
    "    object_labels = [semantic_map.gt_pred_correspondences[valid_masks[idx][0]][valid_masks[idx][1]][0] for idx in indices]\n",
    "    object_names = [semantic_map.instance_id_to_name[obj_label] for obj_label in object_labels]\n",
    "    pred_dict[label] = object_labels"
   ]
  },
  {
   "cell_type": "code",
   "execution_count": 640,
   "id": "372841e9",
   "metadata": {},
   "outputs": [
    {
     "name": "stdout",
     "output_type": "stream",
     "text": [
      "32\n"
     ]
    }
   ],
   "source": [
    "unique_items = []\n",
    "for label, gt_list in pred_dict.items():\n",
    "    for gt_item in gt_list:\n",
    "        if gt_item not in unique_items:\n",
    "            unique_items.append(gt_item)\n",
    "print(len(unique_items))"
   ]
  },
  {
   "cell_type": "code",
   "execution_count": 534,
   "id": "210783e2",
   "metadata": {},
   "outputs": [
    {
     "data": {
      "text/plain": [
       "['door',\n",
       " 'couch',\n",
       " 'Unknown',\n",
       " 'wardrobe',\n",
       " 'tv',\n",
       " 'bed',\n",
       " 'armchair',\n",
       " 'nightstand',\n",
       " 'bicycle',\n",
       " 'table',\n",
       " 'chandelier',\n",
       " 'chair',\n",
       " 'computer desk',\n",
       " 'light',\n",
       " 'blanket',\n",
       " 'balustrade',\n",
       " 'curtain',\n",
       " 'cabinet',\n",
       " 'ventilation',\n",
       " 'picture']"
      ]
     },
     "execution_count": 534,
     "metadata": {},
     "output_type": "execute_result"
    }
   ],
   "source": [
    "unique_items"
   ]
  },
  {
   "cell_type": "code",
   "execution_count": 1267,
   "id": "9b681a12",
   "metadata": {},
   "outputs": [
    {
     "data": {
      "image/png": "[encoded data removed]",
      "text/plain": [
       "<Figure size 1296x432 with 1 Axes>"
      ]
     },
     "metadata": {
      "needs_background": "light"
     },
     "output_type": "display_data"
    }
   ],
   "source": [
    "import matplotlib.pyplot as plt\n",
    "from collections import Counter\n",
    "import numpy as np\n",
    "\n",
    "# Sample dictionary\n",
    "data = pred_dict\n",
    "\n",
    "# Get all unique labels\n",
    "all_labels = sorted(set(label for values in data.values() for label in values))\n",
    "groups = list(data.keys())\n",
    "\n",
    "# Count label occurrences per group\n",
    "count_data = {group: Counter(values) for group, values in data.items()}\n",
    "xlabels = [item.most_common(1)[0][0] for item in count_data.values()]\n",
    "\n",
    "# Prepare for stacked bar plot\n",
    "bottom = np.zeros(len(groups))  # start from 0\n",
    "x = np.arange(len(groups))\n",
    "\n",
    "fig, ax = plt.subplots(figsize=(18, 6))\n",
    "\n",
    "# Plot each label as a stack\n",
    "for label in all_labels:\n",
    "    values = [count_data[group][label] for group in groups]\n",
    "    ax.bar(x, values, bottom=bottom, label=label)\n",
    "    bottom += values  # update for stacking\n",
    "\n",
    "# Format plot\n",
    "ax.set_xticks(x)\n",
    "for label in ax.get_xticklabels():\n",
    "    label.set_rotation(90)\n",
    "ax.set_xticklabels(xlabels)\n",
    "ax.set_ylabel(\"Count\")\n",
    "ax.set_title(\"Stacked Bar Chart: Label Counts per Group\")\n",
    "plt.tight_layout()\n",
    "plt.show()"
   ]
  },
  {
   "cell_type": "code",
   "execution_count": null,
   "id": "e76ec977",
   "metadata": {},
   "outputs": [
    {
     "name": "stdout",
     "output_type": "stream",
     "text": [
      "[104, 104, 104, 107, 47, 32, 32, 107, 4, 4, 132, 132, 186, 186, 0, 10, 9, 9, 135, 16, 16, 132, 16, 11, 44, 9, 75, 119, 228, 113, 61, 132, 30, 8, 115, 287, 194, 132, 22, 174]\n"
     ]
    },
    {
     "data": {
      "image/png": "[encoded data removed]",
      "text/plain": [
       "<Figure size 1296x432 with 1 Axes>"
      ]
     },
     "metadata": {
      "needs_background": "light"
     },
     "output_type": "display_data"
    }
   ],
   "source": []
  },
  {
   "attachments": {
    "image.png": {
     "image/png": "[encoded data removed]"
    }
   },
   "cell_type": "markdown",
   "id": "1842844f",
   "metadata": {},
   "source": [
    "![image.png](attachment:image.png)"
   ]
  },
  {
   "cell_type": "code",
   "execution_count": null,
   "id": "702338c6",
   "metadata": {},
   "outputs": [],
   "source": []
  },
  {
   "cell_type": "code",
   "execution_count": 662,
   "id": "9b7a2ff0",
   "metadata": {},
   "outputs": [
    {
     "name": "stdout",
     "output_type": "stream",
     "text": [
      "[ 21  24  28  41  56  63  67  74  75  99 107 112 115 130 133 147 157 158\n",
      " 163 164 167 170 173 177 178 180 182 184 185 186 188 189 191 197 198 199\n",
      " 200 201 202 203 205 206 207 209 210 214 217 218 219 220 221 225 226 227\n",
      " 229 230 233 236 237 243 244 245 246 250 251 253 254 256 257 258 262 264\n",
      " 265 267 269 271 272 273 274 275 277 279 280 285 286 289 291 292 297 301\n",
      " 304 306 308 310 314 316 318 319 320 322 323 324 325 326 327 329 330 332\n",
      " 333 335 337 338 339 340 341 342 343 346 350 351 352 354 356 357 360 361\n",
      " 362 363 364 366 368 372 374 378 379 380 381 382 384 385 386 387 388 390\n",
      " 391 393 395 399 400 402 403 404 405 407 410 411 413 415 418 420 421 422\n",
      " 423 426 430 431 432 433 434 435 436 438 439 441 443 444 445 449 450 452\n",
      " 453 454 457 459 460 461 463 465 466 469 470 471 472 474 478 483 485 486\n",
      " 488 489 491 493 496 501 502 503 504 509 510 513 514 515 516 519 521 522\n",
      " 523 524 526 536 537 539 544 545 546 548 549 550 551 552 553 554 556 557\n",
      " 559 562 563 564 566 568 572 573 576 577 581 582 587 589 591 592 593 594\n",
      " 596 599 604 606 607 608 609 611 613 627 628 631 632 635 637 639 640 641\n",
      " 642 644 645 649 650 651 653 655 659 660 661 663 664 666 668 672 674 675\n",
      " 676 678 679 680 681 682 683 686 688 691 692 695 696 698 699 700 703 705\n",
      " 711 712 716 720 722 723 730 732 733 735 737 738 741 743 744 746 752 754\n",
      " 756 757 761 773 774 785 792 793 798 803 805 813 826 831 843 849 854 879]\n"
     ]
    }
   ],
   "source": [
    "for u, v, attrs in semantic_map.G.edges(data=True):\n",
    "    matches = attrs['matches'].cpu().numpy()\n",
    "    print(matches[:, 0])\n",
    "    break"
   ]
  },
  {
   "cell_type": "code",
   "execution_count": null,
   "id": "dd570f86",
   "metadata": {},
   "outputs": [],
   "source": [
    "import matplotlib.pyplot as plt\n",
    "from matplotlib import cm\n",
    "from collections import Counter\n",
    "import numpy as np\n",
    "\n",
    "# Sample data\n",
    "data = pred_dict\n",
    "\n",
    "# Unique labels and groups\n",
    "all_labels = sorted(set(label for v in data.values() for label in v))\n",
    "groups = list(data.keys())\n",
    "\n",
    "# Count items per group\n",
    "count_data = {group: Counter(values) for group, values in data.items()}\n",
    "\n",
    "# Set up the color map\n",
    "color_map = cm.get_cmap('tab10', len(all_labels))  # or 'Set3', 'Paired', etc.\n",
    "label_colors = {label: color_map(i) for i, label in enumerate(all_labels)}\n",
    "\n",
    "# Plot\n",
    "x = np.arange(len(groups))\n",
    "bottom = np.zeros(len(groups))\n",
    "\n",
    "fig, ax = plt.subplots(figsize=(18, 6))\n",
    "\n",
    "for label in all_labels:\n",
    "    values = [count_data[group][label] for group in groups]\n",
    "    ax.bar(x, values, bottom=bottom, label=label, color=label_colors[label])\n",
    "    bottom += values\n",
    "\n",
    "# Format plot\n",
    "ax.set_xticks(x)\n",
    "ax.set_xticklabels(groups)\n",
    "ax.set_ylabel(\"Count\")\n",
    "ax.set_title(\"Stacked Bar Chart: Label Counts per Group\")\n",
    "plt.tight_layout()\n",
    "plt.show()\n"
   ]
  },
  {
   "cell_type": "code",
   "execution_count": 569,
   "id": "d755427b",
   "metadata": {},
   "outputs": [
    {
     "name": "stdout",
     "output_type": "stream",
     "text": [
      "Object Unknown have 18 instances.\n",
      "The instances are grouped under 1 clusters\n",
      "\n",
      "\n",
      "Object door have 26 instances.\n",
      "The instances are grouped under 2 clusters\n",
      "14 of them are in cluster 7\n",
      "\n",
      "\n",
      "Object chandelier have 11 instances.\n",
      "The instances are grouped under 1 clusters\n",
      "\n",
      "\n",
      "Object wardrobe have 24 instances.\n",
      "The instances are grouped under 2 clusters\n",
      "18 of them are in cluster 17\n",
      "\n",
      "\n",
      "Object tv have 17 instances.\n",
      "The instances are grouped under 1 clusters\n",
      "\n",
      "\n",
      "Object wardrobe have 4 instances.\n",
      "The instances are grouped under 1 clusters\n",
      "\n",
      "\n",
      "Object bed have 31 instances.\n",
      "The instances are grouped under 4 clusters\n",
      "11 of them are in cluster 25\n",
      "\n",
      "\n",
      "Object nightstand have 5 instances.\n",
      "The instances are grouped under 1 clusters\n",
      "\n",
      "\n",
      "Object armchair have 4 instances.\n",
      "The instances are grouped under 1 clusters\n",
      "\n",
      "\n",
      "Object door have 28 instances.\n",
      "The instances are grouped under 3 clusters\n",
      "19 of them are in cluster 5\n",
      "\n",
      "\n",
      "Object cabinet have 3 instances.\n",
      "The instances are grouped under 1 clusters\n",
      "\n",
      "\n",
      "Object door have 15 instances.\n",
      "The instances are grouped under 2 clusters\n",
      "13 of them are in cluster 4\n",
      "\n",
      "\n",
      "Object shower curtain have 1 instances.\n",
      "The instances are grouped under 1 clusters\n",
      "\n",
      "\n",
      "Object curtain have 1 instances.\n",
      "The instances are grouped under 1 clusters\n",
      "\n",
      "\n",
      "Object door have 29 instances.\n",
      "The instances are grouped under 3 clusters\n",
      "15 of them are in cluster 1\n",
      "\n",
      "\n",
      "Object door have 28 instances.\n",
      "The instances are grouped under 3 clusters\n",
      "21 of them are in cluster 6\n",
      "\n",
      "\n",
      "Object ventilation have 3 instances.\n",
      "The instances are grouped under 1 clusters\n",
      "\n",
      "\n",
      "Object chandelier have 4 instances.\n",
      "The instances are grouped under 1 clusters\n",
      "\n",
      "\n",
      "Object bicycle have 2 instances.\n",
      "The instances are grouped under 1 clusters\n",
      "\n",
      "\n",
      "Object couch have 71 instances.\n",
      "The instances are grouped under 8 clusters\n",
      "13 of them are in cluster 14\n",
      "\n",
      "\n",
      "Object wardrobe have 31 instances.\n",
      "The instances are grouped under 2 clusters\n",
      "16 of them are in cluster 31\n",
      "\n",
      "\n",
      "Object chair have 5 instances.\n",
      "The instances are grouped under 1 clusters\n",
      "\n",
      "\n",
      "Object couch have 43 instances.\n",
      "The instances are grouped under 4 clusters\n",
      "13 of them are in cluster 10\n",
      "\n",
      "\n",
      "Object table have 1 instances.\n",
      "The instances are grouped under 1 clusters\n",
      "\n",
      "\n",
      "Object balustrade have 9 instances.\n",
      "The instances are grouped under 1 clusters\n",
      "\n",
      "\n",
      "Object picture have 4 instances.\n",
      "The instances are grouped under 1 clusters\n",
      "\n",
      "\n",
      "Object balustrade have 6 instances.\n",
      "The instances are grouped under 1 clusters\n",
      "\n",
      "\n"
     ]
    }
   ],
   "source": [
    "for gt_label, list_cluster in pred_dict.items():\n",
    "    print(f\"Object {semantic_map.instance_id_to_name[gt_label]} have {len(list_cluster)} instances.\")\n",
    "    print(f\"The instances are grouped under {len(set(list_cluster))} clusters\")\n",
    "    if len(set(list_cluster)) > 1:\n",
    "        counter = Counter(list_cluster)\n",
    "        most_common = counter.most_common(1)[0]\n",
    "        print(f\"{most_common[1]} of them are in cluster {most_common[0]}\")\n",
    "        \n",
    "\n",
    "    print('\\n')\n",
    "\n",
    "    "
   ]
  },
  {
   "cell_type": "code",
   "execution_count": null,
   "id": "53746889",
   "metadata": {},
   "outputs": [
    {
     "name": "stdout",
     "output_type": "stream",
     "text": [
      "22 37\n",
      "0.5675675675675675\n",
      "25 29\n",
      "0.5862068965517242\n",
      "23 30\n",
      "0.7\n",
      "26 29\n",
      "0.5862068965517242\n",
      "23 30\n",
      "0.7\n",
      "27 22\n",
      "0.7727272727272727\n",
      "24 30\n",
      "0.7\n",
      "28 22\n",
      "0.7727272727272727\n",
      "25 30\n",
      "0.7\n",
      "29 22\n",
      "0.7727272727272727\n",
      "25 30\n",
      "0.7\n",
      "29 12\n",
      "0.5833333333333333\n",
      "30 10\n",
      "0.5\n",
      "26 30\n",
      "0.7\n",
      "30 12\n",
      "0.5833333333333333\n",
      "31 10\n",
      "0.5\n",
      "27 30\n",
      "0.7\n",
      "31 12\n",
      "0.5833333333333333\n",
      "32 10\n",
      "0.5\n",
      "28 30\n",
      "0.7\n",
      "32 12\n",
      "0.5833333333333333\n",
      "33 10\n",
      "0.5\n",
      "28 15\n",
      "0.4\n",
      "29 15\n",
      "0.6666666666666667\n",
      "33 12\n",
      "0.5833333333333333\n",
      "34 10\n",
      "0.5\n",
      "29 15\n",
      "0.4\n",
      "30 15\n",
      "0.6666666666666667\n",
      "34 12\n",
      "0.5833333333333333\n",
      "35 10\n",
      "0.5\n",
      "30 15\n",
      "0.4\n",
      "31 15\n",
      "0.6666666666666667\n",
      "35 12\n",
      "0.5833333333333333\n",
      "36 10\n",
      "0.5\n",
      "31 15\n",
      "0.4\n",
      "32 15\n",
      "0.6666666666666667\n",
      "36 12\n",
      "0.5833333333333333\n",
      "37 10\n",
      "0.5\n",
      "31 15\n",
      "0.4\n",
      "32 15\n",
      "0.6666666666666667\n",
      "36 12\n",
      "0.5833333333333333\n",
      "37 10\n",
      "0.5\n",
      "32 15\n",
      "0.4\n",
      "33 15\n",
      "0.6666666666666667\n",
      "37 12\n",
      "0.5833333333333333\n",
      "38 10\n",
      "0.5\n",
      "32 15\n",
      "0.4\n",
      "34 11\n",
      "0.5454545454545454\n",
      "38 12\n",
      "0.5833333333333333\n",
      "39 10\n",
      "0.5\n",
      "32 15\n",
      "0.4\n",
      "34 11\n",
      "0.5454545454545454\n",
      "38 12\n",
      "0.5833333333333333\n",
      "39 5\n",
      "0.4\n",
      "33 15\n",
      "0.4\n",
      "35 11\n",
      "0.5454545454545454\n",
      "39 12\n",
      "0.5833333333333333\n",
      "40 5\n",
      "0.4\n",
      "34 15\n",
      "0.4\n",
      "36 11\n",
      "0.5454545454545454\n",
      "40 12\n",
      "0.5833333333333333\n",
      "41 5\n",
      "0.4\n",
      "35 15\n",
      "0.4\n",
      "37 11\n",
      "0.5454545454545454\n",
      "41 12\n",
      "0.5833333333333333\n",
      "42 5\n",
      "0.4\n",
      "35 15\n",
      "0.4\n",
      "37 11\n",
      "0.5454545454545454\n",
      "42 8\n",
      "0.5\n",
      "43 5\n",
      "0.4\n",
      "36 15\n",
      "0.4\n",
      "38 11\n",
      "0.5454545454545454\n",
      "43 8\n",
      "0.5\n",
      "44 5\n",
      "0.4\n",
      "36 15\n",
      "0.4\n",
      "38 11\n",
      "0.5454545454545454\n",
      "43 8\n",
      "0.5\n",
      "44 5\n",
      "0.4\n",
      "36 7\n",
      "0.4285714285714286\n",
      "37 8\n",
      "0.25\n",
      "39 11\n",
      "0.5454545454545454\n",
      "44 8\n",
      "0.5\n",
      "45 5\n",
      "0.4\n",
      "37 7\n",
      "0.4285714285714286\n",
      "38 8\n",
      "0.25\n",
      "40 11\n",
      "0.5454545454545454\n",
      "45 8\n",
      "0.5\n",
      "46 5\n",
      "0.4\n",
      "38 7\n",
      "0.4285714285714286\n",
      "39 8\n",
      "0.25\n",
      "41 11\n",
      "0.5454545454545454\n",
      "46 8\n",
      "0.5\n",
      "47 5\n",
      "0.4\n",
      "38 7\n",
      "0.4285714285714286\n",
      "39 8\n",
      "0.25\n",
      "41 11\n",
      "0.5454545454545454\n",
      "46 8\n",
      "0.5\n",
      "47 5\n",
      "0.4\n",
      "38 7\n",
      "0.4285714285714286\n",
      "40 4\n",
      "0.5\n",
      "42 11\n",
      "0.5454545454545454\n",
      "47 8\n",
      "0.5\n",
      "48 5\n",
      "0.4\n",
      "39 7\n",
      "0.4285714285714286\n",
      "41 4\n",
      "0.5\n",
      "43 11\n",
      "0.5454545454545454\n",
      "48 8\n",
      "0.5\n",
      "49 5\n",
      "0.4\n",
      "40 7\n",
      "0.4285714285714286\n",
      "42 4\n",
      "0.5\n",
      "44 11\n",
      "0.5454545454545454\n",
      "49 8\n",
      "0.5\n",
      "50 5\n",
      "0.4\n",
      "43 4\n",
      "0.5\n",
      "45 11\n",
      "0.5454545454545454\n",
      "50 8\n",
      "0.5\n",
      "51 5\n",
      "0.4\n",
      "44 4\n",
      "0.5\n",
      "46 11\n",
      "0.5454545454545454\n",
      "51 8\n",
      "0.5\n",
      "52 5\n",
      "0.4\n",
      "45 4\n",
      "0.5\n",
      "47 11\n",
      "0.5454545454545454\n",
      "52 8\n",
      "0.5\n",
      "53 5\n",
      "0.4\n",
      "45 4\n",
      "0.5\n",
      "48 8\n",
      "0.5\n",
      "53 8\n",
      "0.5\n",
      "54 5\n",
      "0.4\n",
      "46 4\n",
      "0.5\n",
      "49 8\n",
      "0.5\n",
      "54 8\n",
      "0.5\n",
      "55 5\n",
      "0.4\n",
      "47 4\n",
      "0.5\n",
      "50 8\n",
      "0.5\n",
      "55 8\n",
      "0.5\n",
      "56 5\n",
      "0.4\n",
      "48 4\n",
      "0.5\n",
      "51 8\n",
      "0.5\n",
      "56 8\n",
      "0.5\n",
      "57 5\n",
      "0.4\n",
      "48 4\n",
      "0.5\n",
      "51 8\n",
      "0.5\n",
      "57 8\n",
      "0.5\n",
      "58 5\n",
      "0.4\n",
      "49 4\n",
      "0.5\n",
      "52 8\n",
      "0.5\n",
      "58 8\n",
      "0.5\n",
      "59 5\n",
      "0.4\n",
      "50 4\n",
      "0.5\n",
      "53 8\n",
      "0.5\n",
      "59 8\n",
      "0.5\n",
      "60 5\n",
      "0.4\n",
      "51 4\n",
      "0.5\n",
      "54 8\n",
      "0.5\n",
      "60 8\n",
      "0.5\n",
      "61 5\n",
      "0.4\n",
      "52 4\n",
      "0.5\n",
      "55 8\n",
      "0.5\n",
      "61 8\n",
      "0.5\n",
      "62 5\n",
      "0.4\n",
      "53 4\n",
      "0.5\n",
      "56 8\n",
      "0.5\n",
      "62 8\n",
      "0.5\n",
      "63 5\n",
      "0.4\n",
      "53 4\n",
      "0.5\n",
      "56 8\n",
      "0.5\n",
      "62 8\n",
      "0.5\n",
      "63 5\n",
      "0.4\n",
      "53 4\n",
      "0.5\n",
      "56 8\n",
      "0.5\n",
      "62 4\n",
      "0.25\n",
      "63 4\n",
      "0.5\n",
      "64 5\n",
      "0.4\n",
      "54 4\n",
      "0.5\n",
      "57 8\n",
      "0.5\n",
      "63 4\n",
      "0.25\n",
      "64 4\n",
      "0.5\n",
      "65 5\n",
      "0.4\n",
      "55 4\n",
      "0.5\n",
      "58 8\n",
      "0.5\n",
      "64 4\n",
      "0.25\n",
      "65 4\n",
      "0.5\n",
      "66 5\n",
      "0.4\n",
      "56 4\n",
      "0.5\n",
      "59 8\n",
      "0.5\n",
      "65 4\n",
      "0.25\n",
      "66 4\n",
      "0.5\n",
      "67 5\n",
      "0.4\n",
      "56 4\n",
      "0.5\n",
      "59 8\n",
      "0.5\n",
      "65 4\n",
      "0.25\n",
      "66 4\n",
      "0.5\n",
      "67 5\n",
      "0.4\n",
      "56 4\n",
      "0.5\n",
      "59 8\n",
      "0.5\n",
      "65 4\n",
      "0.25\n",
      "66 4\n",
      "0.5\n",
      "67 5\n",
      "0.4\n",
      "56 4\n",
      "0.5\n",
      "59 8\n",
      "0.5\n",
      "65 4\n",
      "0.25\n",
      "66 4\n",
      "0.5\n",
      "68 2\n",
      "0.5\n",
      "57 4\n",
      "0.5\n",
      "60 8\n",
      "0.5\n",
      "66 4\n",
      "0.25\n",
      "67 4\n",
      "0.5\n",
      "69 2\n",
      "0.5\n",
      "58 4\n",
      "0.5\n",
      "61 8\n",
      "0.5\n",
      "67 4\n",
      "0.25\n",
      "68 4\n",
      "0.5\n",
      "70 2\n",
      "0.5\n",
      "59 4\n",
      "0.5\n",
      "62 8\n",
      "0.5\n",
      "68 4\n",
      "0.25\n",
      "69 4\n",
      "0.5\n",
      "71 2\n",
      "0.5\n",
      "60 4\n",
      "0.5\n",
      "63 8\n",
      "0.5\n",
      "69 4\n",
      "0.25\n",
      "70 4\n",
      "0.5\n",
      "72 2\n",
      "0.5\n",
      "61 4\n",
      "0.5\n",
      "64 8\n",
      "0.5\n",
      "70 4\n",
      "0.25\n",
      "71 4\n",
      "0.5\n",
      "73 2\n",
      "0.5\n",
      "61 4\n",
      "0.5\n",
      "64 8\n",
      "0.5\n",
      "71 4\n",
      "0.25\n",
      "72 4\n",
      "0.5\n",
      "74 2\n",
      "0.5\n",
      "65 8\n",
      "0.5\n",
      "72 4\n",
      "0.25\n",
      "73 4\n",
      "0.5\n",
      "75 2\n",
      "0.5\n",
      "65 8\n",
      "0.5\n",
      "72 4\n",
      "0.25\n",
      "74 2\n",
      "0.5\n",
      "76 2\n",
      "0.5\n",
      "65 8\n",
      "0.5\n",
      "72 4\n",
      "0.25\n",
      "74 2\n",
      "0.5\n",
      "76 2\n",
      "0.5\n",
      "65 8\n",
      "0.5\n",
      "73 2\n",
      "0.5\n",
      "75 2\n",
      "0.5\n",
      "77 2\n",
      "0.5\n",
      "66 8\n",
      "0.5\n",
      "74 2\n",
      "0.5\n",
      "76 2\n",
      "0.5\n",
      "78 2\n",
      "0.5\n",
      "66 8\n",
      "0.5\n",
      "75 2\n",
      "0.5\n",
      "77 2\n",
      "0.5\n",
      "79 2\n",
      "0.5\n",
      "66 8\n",
      "0.5\n",
      "75 2\n",
      "0.5\n",
      "77 2\n",
      "0.5\n",
      "79 2\n",
      "0.5\n",
      "66 2\n",
      "0.5\n",
      "67 6\n",
      "0.33333333333333337\n",
      "76 2\n",
      "0.5\n",
      "78 2\n",
      "0.5\n",
      "80 2\n",
      "0.5\n",
      "67 2\n",
      "0.5\n",
      "68 6\n",
      "0.33333333333333337\n",
      "77 2\n",
      "0.5\n",
      "79 2\n",
      "0.5\n",
      "81 2\n",
      "0.5\n",
      "68 2\n",
      "0.5\n",
      "69 6\n",
      "0.33333333333333337\n",
      "78 2\n",
      "0.5\n",
      "80 2\n",
      "0.5\n",
      "82 2\n",
      "0.5\n",
      "68 2\n",
      "0.5\n",
      "79 2\n",
      "0.5\n",
      "81 2\n",
      "0.5\n",
      "83 2\n",
      "0.5\n",
      "69 2\n",
      "0.5\n",
      "80 2\n",
      "0.5\n",
      "82 2\n",
      "0.5\n",
      "84 2\n",
      "0.5\n",
      "70 2\n",
      "0.5\n",
      "81 2\n",
      "0.5\n",
      "83 2\n",
      "0.5\n",
      "85 2\n",
      "0.5\n"
     ]
    },
    {
     "data": {
      "image/png": "[encoded data removed]",
      "text/plain": [
       "<Figure size 432x288 with 1 Axes>"
      ]
     },
     "metadata": {
      "needs_background": "light"
     },
     "output_type": "display_data"
    }
   ],
   "source": []
  },
  {
   "cell_type": "code",
   "execution_count": null,
   "id": "7e2669ea",
   "metadata": {},
   "outputs": [],
   "source": []
  },
  {
   "cell_type": "code",
   "execution_count": 484,
   "id": "af738ef2",
   "metadata": {},
   "outputs": [
    {
     "data": {
      "text/plain": [
       "0.848816029143898"
      ]
     },
     "execution_count": 484,
     "metadata": {},
     "output_type": "execute_result"
    }
   ],
   "source": [
    "percent_succeses[0]"
   ]
  },
  {
   "cell_type": "code",
   "execution_count": 308,
   "id": "f1853b2e",
   "metadata": {},
   "outputs": [
    {
     "data": {
      "text/plain": [
       "147"
      ]
     },
     "execution_count": 308,
     "metadata": {},
     "output_type": "execute_result"
    }
   ],
   "source": [
    "range(50,150)[np.argmax(percent_succeses)]"
   ]
  },
  {
   "cell_type": "code",
   "execution_count": 231,
   "id": "c97711bf",
   "metadata": {},
   "outputs": [
    {
     "data": {
      "text/plain": [
       "(0.8529411764705882, 34)"
      ]
     },
     "execution_count": 231,
     "metadata": {},
     "output_type": "execute_result"
    }
   ],
   "source": [
    "percent_succeses[7],range(20,50,2)[7]"
   ]
  },
  {
   "cell_type": "code",
   "execution_count": 587,
   "id": "7fe7cc5e",
   "metadata": {},
   "outputs": [],
   "source": [
    "for label in np.unique(clusters):\n",
    "\n",
    "    output_folder = f\"./outputs/{label}\"\n",
    "    if not os.path.exists(output_folder):\n",
    "        os.mkdir(output_folder)\n",
    "\n",
    "    indices = np.where(clusters == label)[0]\n",
    "    for idx in indices:        \n",
    "        img_id,mask_id = valid_masks[idx]\n",
    "        rgb_img = semantic_map.rgb_observations[img_id].copy()\n",
    "        mask = semantic_map.refined_prediction_masks[img_id][mask_id]\n",
    "        kernel = np.ones((3, 3), np.uint8)\n",
    "        dilated_mask = cv2.dilate(mask,kernel,iterations=1)\n",
    "        edges = dilated_mask - mask\n",
    "        rgb_img[edges==1] = [255,0,0]\n",
    "        res = cv2.cvtColor(rgb_img,cv2.COLOR_RGB2BGR)\n",
    "        image_path = os.path.join(output_folder,f\"{img_id}_{mask_id}_{semantic_map.gt_pred_correspondences[img_id][mask_id][0]}.png\")\n",
    "        cv2.imwrite(image_path,res)\n",
    "    \n",
    "    \n",
    "    "
   ]
  },
  {
   "cell_type": "code",
   "execution_count": null,
   "id": "4e91b154",
   "metadata": {},
   "outputs": [
    {
     "name": "stdout",
     "output_type": "stream",
     "text": [
      "[174, 174, 164]\n",
      "[(133, 14), (134, 21), (141, 0)]\n",
      "[61, 287]\n",
      "[(6, 0), (88, 11)]\n",
      "[194, 115]\n",
      "[(82, 1), (104, 5)]\n",
      "[115, 133, 115, 115]\n",
      "[(107, 11), (110, 4), (115, 4), (129, 4)]\n",
      "[22, 16]\n",
      "[(0, 0), (1, 5)]\n"
     ]
    }
   ],
   "source": [
    "clusters = fcluster(linked, t=150, criterion='maxclust')\n",
    "\n",
    "single_instances = 0\n",
    "true_instances = 0\n",
    "all_instances = len(np.unique(clusters))\n",
    "for label in np.unique(clusters):\n",
    "    # Get the indices for the current cluster\n",
    "    indices = np.where(clusters == label)[0]  # Extract the array from the tuple\n",
    "    if len(indices)==1:\n",
    "        single_instances += 1\n",
    "        continue\n",
    "    object_labels = [semantic_map.gt_pred_correspondences[valid_masks[idx][0]][valid_masks[idx][1]][0] for idx in indices]\n",
    "    all_equal = len(set(object_labels)) == 1\n",
    "    if all_equal:\n",
    "        true_instances += 1\n",
    "    else:\n",
    "        print(object_labels)\n",
    "        print([valid_masks[idx] for idx in indices])\n",
    "percent_succeses.append((true_instances+single_instances)/all_instances)\n",
    "percent_ignores.append(single_instances/all_instances)"
   ]
  },
  {
   "cell_type": "code",
   "execution_count": 28,
   "id": "280ca240",
   "metadata": {},
   "outputs": [
    {
     "data": {
      "text/plain": [
       "(164, 0.5797629899726527)"
      ]
     },
     "execution_count": 28,
     "metadata": {},
     "output_type": "execute_result"
    }
   ],
   "source": [
    "semantic_map.gt_pred_correspondences[141][0]"
   ]
  },
  {
   "cell_type": "code",
   "execution_count": 33,
   "id": "80b0dd80",
   "metadata": {},
   "outputs": [
    {
     "data": {
      "text/plain": [
       "'chair'"
      ]
     },
     "execution_count": 33,
     "metadata": {},
     "output_type": "execute_result"
    }
   ],
   "source": [
    "semantic_map.instance_id_to_name[174]"
   ]
  },
  {
   "cell_type": "code",
   "execution_count": 45,
   "id": "096dfc27",
   "metadata": {},
   "outputs": [
    {
     "data": {
      "image/png": "[encoded data removed]",
      "text/plain": [
       "<Figure size 432x288 with 1 Axes>"
      ]
     },
     "metadata": {
      "needs_background": "light"
     },
     "output_type": "display_data"
    }
   ],
   "source": [
    "plt.imshow(semantic_map.refined_prediction_masks[133][14],cmap=\"gray\")\n",
    "plt.show()"
   ]
  },
  {
   "cell_type": "code",
   "execution_count": 46,
   "id": "7b45ceac",
   "metadata": {},
   "outputs": [
    {
     "data": {
      "image/png": "[encoded data removed]",
      "text/plain": [
       "<Figure size 432x864 with 1 Axes>"
      ]
     },
     "metadata": {
      "needs_background": "light"
     },
     "output_type": "display_data"
    }
   ],
   "source": [
    "semantic_map.display_rgb_observation(141)"
   ]
  },
  {
   "cell_type": "code",
   "execution_count": 55,
   "id": "b790cb21",
   "metadata": {},
   "outputs": [
    {
     "data": {
      "image/png": "[encoded data removed]",
      "text/plain": [
       "<Figure size 432x288 with 1 Axes>"
      ]
     },
     "metadata": {
      "needs_background": "light"
     },
     "output_type": "display_data"
    }
   ],
   "source": [
    "img_id, mask_id  = 115, 4\n",
    "rgb_img = semantic_map.rgb_observations[img_id].copy()\n",
    "mask = semantic_map.refined_prediction_masks[img_id][mask_id]\n",
    "kernel = np.ones((3, 3), np.uint8)\n",
    "dilated_mask = cv2.dilate(mask,kernel,iterations=1)\n",
    "edges = dilated_mask - mask\n",
    "rgb_img[edges==1] = [255,0,0]\n",
    "plt.imshow(rgb_img)\n",
    "plt.axis(\"off\")\n",
    "plt.show()"
   ]
  },
  {
   "cell_type": "code",
   "execution_count": 72,
   "id": "f276153c",
   "metadata": {},
   "outputs": [
    {
     "data": {
      "text/plain": [
       "numpy.ndarray"
      ]
     },
     "execution_count": 72,
     "metadata": {},
     "output_type": "execute_result"
    }
   ],
   "source": [
    "type(clusters)"
   ]
  },
  {
   "cell_type": "code",
   "execution_count": 124,
   "id": "bff051ab",
   "metadata": {},
   "outputs": [],
   "source": [
    "def generate_distance_matrix_subspace_v2(semantic_map,k,valid_masks,clusters,distance_type=\"projection\"):\n",
    "    mask_ids = []\n",
    "    subspaces = []\n",
    "    for i in range(1,len(np.unique(clusters))+1):\n",
    "        indices = np.where(clusters==i)[0]\n",
    "        data_points = np.empty((0, 256))\n",
    "        temp_mask_ids = []\n",
    "        for index in indices:\n",
    "            img_id, mask_id = valid_masks[index]\n",
    "            _,valid_indices = semantic_map.get_valid_keypoints(img_id,mask_id)\n",
    "            data_points = np.vstack([data_points,semantic_map.descriptors[img_id][valid_indices].copy()])\n",
    "            temp_mask_ids.append((img_id,mask_id))\n",
    "\n",
    "        if data_points.shape[0] >= k: \n",
    "            subspaces.append(get_subspace(data_points.T,k))\n",
    "            mask_ids.append(temp_mask_ids)\n",
    "        \n",
    "    distances = np.zeros((len(subspaces), len(subspaces)))\n",
    "\n",
    "    # Compute the pairwise distances only for the upper triangle (including diagonal)\n",
    "    for i in range(len(subspaces)):\n",
    "        for j in range(i, len(subspaces)):  # j starts from i to avoid redundant calculations\n",
    "            if distance_type == \"projection\":\n",
    "                dist = projection_distance(subspaces[i], subspaces[j])\n",
    "            elif distance_type == \"chordal_distance\":\n",
    "                dist = chordal_distance(subspaces[i], subspaces[j])\n",
    "            distances[i, j] = dist\n",
    "            distances[j, i] = dist\n",
    "    return distances, mask_ids"
   ]
  },
  {
   "cell_type": "code",
   "execution_count": 419,
   "id": "ab537880",
   "metadata": {},
   "outputs": [],
   "source": [
    "distances2, valid_masks2 = generate_distance_matrix_subspace_v2(semantic_map,20,valid_masks,clusters)"
   ]
  },
  {
   "cell_type": "code",
   "execution_count": 420,
   "id": "057f2c9c",
   "metadata": {},
   "outputs": [
    {
     "name": "stdout",
     "output_type": "stream",
     "text": [
      "524\n"
     ]
    }
   ],
   "source": [
    "counter = 0\n",
    "for i in valid_masks2:\n",
    "    counter += len(i)\n",
    "print(counter)"
   ]
  },
  {
   "cell_type": "code",
   "execution_count": null,
   "id": "800c0c9b",
   "metadata": {},
   "outputs": [
    {
     "name": "stderr",
     "output_type": "stream",
     "text": [
      "C:\\Users\\Afiyet Olsun\\AppData\\Local\\Temp\\ipykernel_6368\\3559114569.py:1: ClusterWarning: The symmetric non-negative hollow observation matrix looks suspiciously like an uncondensed distance matrix\n",
      "  linked2 = linkage(distances2, method=\"ward\")\n"
     ]
    }
   ],
   "source": [
    "linked2 = linkage(distances2, method=\"ward\")\n"
   ]
  },
  {
   "cell_type": "code",
   "execution_count": 425,
   "id": "b1a627f1",
   "metadata": {},
   "outputs": [
    {
     "data": {
      "text/plain": [
       "110"
      ]
     },
     "execution_count": 425,
     "metadata": {},
     "output_type": "execute_result"
    }
   ],
   "source": [
    "clusters2 = fcluster(linked2, t=5.8, criterion='distance')\n",
    "len(np.unique(clusters2))"
   ]
  },
  {
   "cell_type": "code",
   "execution_count": 383,
   "id": "e7566619",
   "metadata": {},
   "outputs": [],
   "source": [
    "for label in np.unique(loop_clusters):\n",
    "\n",
    "    output_folder = f\"./outputs/{label}\"\n",
    "    if not os.path.exists(output_folder):\n",
    "        os.mkdir(output_folder)\n",
    "\n",
    "    indices = np.where(loop_clusters == label)[0]\n",
    "    for idx in indices: \n",
    "        masks = loop_valid_masks[idx]       \n",
    "        for img_id,mask_id in masks: \n",
    "            rgb_img = semantic_map.rgb_observations[img_id].copy()\n",
    "            mask = semantic_map.refined_prediction_masks[img_id][mask_id]\n",
    "            kernel = np.ones((3, 3), np.uint8)\n",
    "            dilated_mask = cv2.dilate(mask,kernel,iterations=1)\n",
    "            edges = dilated_mask - mask\n",
    "            rgb_img[edges==1] = [255,0,0]\n",
    "            res = cv2.cvtColor(rgb_img,cv2.COLOR_RGB2BGR)\n",
    "            image_path = os.path.join(output_folder,f\"{img_id}_{mask_id}.png\")\n",
    "            cv2.imwrite(image_path,res)"
   ]
  },
  {
   "cell_type": "code",
   "execution_count": null,
   "id": "8899cdb3",
   "metadata": {},
   "outputs": [
    {
     "data": {
      "text/plain": [
       "177"
      ]
     },
     "execution_count": 315,
     "metadata": {},
     "output_type": "execute_result"
    }
   ],
   "source": [
    "for label in np.unique(clusters2):\n",
    "    object_labels = [semantic_map.gt_pred_correspondences[img_id][mask_id][0] for idx in indices for img_id, mask_id in valid_masks2[idx]]\n",
    "        all_equal = len(set(object_labels)) == 1\n",
    "        if all_equal:\n",
    "            true_instances += 1"
   ]
  },
  {
   "cell_type": "code",
   "execution_count": 398,
   "id": "f351d67a",
   "metadata": {},
   "outputs": [
    {
     "name": "stdout",
     "output_type": "stream",
     "text": [
      "549\n"
     ]
    }
   ],
   "source": [
    "counter = 0\n",
    "for i in valid_masks2:\n",
    "    counter += len(i)\n",
    "print(counter)"
   ]
  },
  {
   "cell_type": "code",
   "execution_count": 422,
   "id": "cd5a995b",
   "metadata": {},
   "outputs": [
    {
     "data": {
      "image/png": "[encoded data removed]",
      "text/plain": [
       "<Figure size 432x288 with 1 Axes>"
      ]
     },
     "metadata": {
      "needs_background": "light"
     },
     "output_type": "display_data"
    }
   ],
   "source": [
    "percent_succeses2 = []\n",
    "percent_ignores2 = []\n",
    "for num in range(10,200):\n",
    "    clusters2 = fcluster(linked2, t=num, criterion='maxclust')\n",
    "    single_instances = 0\n",
    "    true_instances = 0\n",
    "    all_instances = len(np.unique(clusters2))\n",
    "    for label in np.unique(clusters2):\n",
    "        # Get the indices for the current cluster\n",
    "        indices = np.where(clusters2 == label)[0]  # Extract the array from the tuple\n",
    "        corresponding_masks = [item for idx in indices for item in valid_masks2[idx]]\n",
    "        if len(corresponding_masks)==1:\n",
    "            single_instances += 1\n",
    "            continue\n",
    "        object_labels = [semantic_map.gt_pred_correspondences[img_id][mask_id][0] for img_id, mask_id in corresponding_masks]\n",
    "        all_equal = len(set(object_labels)) == 1\n",
    "        if all_equal:\n",
    "            true_instances += len(corresponding_masks)\n",
    "    percent_succeses2.append((single_instances+true_instances)/counter)\n",
    "    percent_ignores2.append(single_instances/counter)\n",
    "    \n",
    "plt.plot(range(10,200),percent_succeses2)\n",
    "plt.plot(range(10,200),percent_ignores2)\n",
    "plt.show()"
   ]
  },
  {
   "cell_type": "code",
   "execution_count": 442,
   "id": "fc03cd2c",
   "metadata": {},
   "outputs": [
    {
     "data": {
      "text/plain": [
       "94"
      ]
     },
     "execution_count": 442,
     "metadata": {},
     "output_type": "execute_result"
    }
   ],
   "source": [
    "np.argmax(percent_succeses2)"
   ]
  },
  {
   "cell_type": "code",
   "execution_count": 305,
   "id": "ef4f42a5",
   "metadata": {},
   "outputs": [
    {
     "data": {
      "text/plain": [
       "104"
      ]
     },
     "execution_count": 305,
     "metadata": {},
     "output_type": "execute_result"
    }
   ],
   "source": [
    "range(10,140)[np.argmax(percent_succeses2)]"
   ]
  },
  {
   "cell_type": "code",
   "execution_count": 296,
   "id": "a0cda57d",
   "metadata": {},
   "outputs": [],
   "source": [
    "def generate_distance_matrix_subspace_v3(semantic_map,k,valid_masks,clusters,distance_type=\"projection\"):\n",
    "    mask_ids = []\n",
    "    subspaces = []\n",
    "    for i in range(1,len(np.unique(clusters))+1):\n",
    "        indices = np.where(clusters==i)[0]\n",
    "        data_points = np.empty((0, 256))\n",
    "        temp_mask_ids = []\n",
    "        for index in indices:\n",
    "            masks = valid_masks[index]\n",
    "            for img_id, mask_id in masks:  \n",
    "                _,valid_indices = semantic_map.get_valid_keypoints(img_id,mask_id)\n",
    "                data_points = np.vstack([data_points,semantic_map.descriptors[img_id][valid_indices].copy()])\n",
    "                temp_mask_ids.append((img_id,mask_id))\n",
    "\n",
    "        if data_points.shape[0] >= k: \n",
    "            subspaces.append(get_subspace(data_points.T,k))\n",
    "            mask_ids.append(temp_mask_ids)\n",
    "        \n",
    "    distances = np.zeros((len(subspaces), len(subspaces)))\n",
    "\n",
    "    # Compute the pairwise distances only for the upper triangle (including diagonal)\n",
    "    for i in range(len(subspaces)):\n",
    "        for j in range(i, len(subspaces)):  # j starts from i to avoid redundant calculations\n",
    "            if distance_type == \"projection\":\n",
    "                dist = projection_distance(subspaces[i], subspaces[j])\n",
    "            elif distance_type == \"chordal_distance\":\n",
    "                dist = chordal_distance(subspaces[i], subspaces[j])\n",
    "            distances[i, j] = dist\n",
    "            distances[j, i] = dist\n",
    "    return distances, mask_ids"
   ]
  },
  {
   "cell_type": "code",
   "execution_count": 359,
   "id": "0668c852",
   "metadata": {},
   "outputs": [],
   "source": [
    "distances3, valid_masks3 = generate_distance_matrix_subspace_v3(semantic_map,20,valid_masks2,clusters2)"
   ]
  },
  {
   "cell_type": "code",
   "execution_count": 426,
   "id": "8b89dc43",
   "metadata": {},
   "outputs": [
    {
     "name": "stdout",
     "output_type": "stream",
     "text": [
      "110\n"
     ]
    },
    {
     "name": "stderr",
     "output_type": "stream",
     "text": [
      "C:\\Users\\Afiyet Olsun\\AppData\\Local\\Temp\\ipykernel_6368\\653546340.py:6: ClusterWarning: The symmetric non-negative hollow observation matrix looks suspiciously like an uncondensed distance matrix\n",
      "  loop_linked = linkage(loop_distance, method=\"ward\")\n"
     ]
    },
    {
     "name": "stdout",
     "output_type": "stream",
     "text": [
      "89\n",
      "81\n",
      "79\n",
      "77\n",
      "77\n"
     ]
    }
   ],
   "source": [
    "loop_valid_masks = valid_masks2\n",
    "loop_clusters = clusters2\n",
    "for i in range(6):\n",
    "    print(len(np.unique(loop_clusters)))\n",
    "    loop_distance, loop_valid_masks = generate_distance_matrix_subspace_v3(semantic_map,20,loop_valid_masks,loop_clusters)\n",
    "    loop_linked = linkage(loop_distance, method=\"ward\")\n",
    "    loop_clusters = fcluster(loop_linked, t=5.5, criterion='distance')\n",
    "    \n",
    "    "
   ]
  },
  {
   "cell_type": "code",
   "execution_count": null,
   "id": "4dd901d3",
   "metadata": {},
   "outputs": [
    {
     "data": {
      "text/plain": [
       "33"
      ]
     },
     "execution_count": 382,
     "metadata": {},
     "output_type": "execute_result"
    }
   ],
   "source": [
    "loop_clusters = fcluster(loop_linked, t=5.7, criterion='distance')\n",
    "len(np.unique(loop_clusters))"
   ]
  },
  {
   "cell_type": "code",
   "execution_count": null,
   "id": "d1545a2e",
   "metadata": {},
   "outputs": [
    {
     "name": "stderr",
     "output_type": "stream",
     "text": [
      "C:\\Users\\Afiyet Olsun\\AppData\\Local\\Temp\\ipykernel_6368\\1532867529.py:1: ClusterWarning: The symmetric non-negative hollow observation matrix looks suspiciously like an uncondensed distance matrix\n",
      "  linked3 = linkage(distances3, method=\"ward\")\n"
     ]
    },
    {
     "data": {
      "text/plain": [
       "69"
      ]
     },
     "execution_count": 350,
     "metadata": {},
     "output_type": "execute_result"
    }
   ],
   "source": [
    "linked3 = linkage(distances3, method=\"ward\")\n",
    "clusters3 = fcluster(linked3, t=6, criterion='distance')\n",
    "len(np.unique(clusters3))"
   ]
  },
  {
   "cell_type": "code",
   "execution_count": 427,
   "id": "1232bffa",
   "metadata": {},
   "outputs": [
    {
     "data": {
      "text/plain": [
       "[<matplotlib.lines.Line2D at 0x1a7c350ddb0>]"
      ]
     },
     "execution_count": 427,
     "metadata": {},
     "output_type": "execute_result"
    },
    {
     "data": {
      "image/png": "[encoded data removed]",
      "text/plain": [
       "<Figure size 432x288 with 1 Axes>"
      ]
     },
     "metadata": {
      "needs_background": "light"
     },
     "output_type": "display_data"
    }
   ],
   "source": [
    "percent_succeses3 = []\n",
    "percent_ignores3 = []\n",
    "for num in range(10,105):\n",
    "    clusters3 = fcluster(linked3, t=num, criterion='maxclust')\n",
    "    single_instances = 0\n",
    "    true_instances = 0\n",
    "    all_instances = len(np.unique(clusters3))\n",
    "    for label in np.unique(clusters3):\n",
    "        # Get the indices for the current cluster\n",
    "        indices = np.where(clusters3 == label)[0]  # Extract the array from the tuple\n",
    "        corresponding_masks = [item for idx in indices for item in valid_masks2[idx]]\n",
    "        if len(corresponding_masks)==1:\n",
    "            single_instances += 1\n",
    "            continue\n",
    "        object_labels = [semantic_map.gt_pred_correspondences[img_id][mask_id][0] for idx in indices for img_id, mask_id in valid_masks3[idx]]\n",
    "        all_equal = len(set(object_labels)) == 1\n",
    "        if all_equal:\n",
    "            true_instances += len(object_labels)\n",
    "    percent_succeses3.append((single_instances + true_instances)/counter)\n",
    "    percent_ignores3.append(single_instances/counter)\n",
    "    \n",
    "plt.plot(range(10,105),percent_succeses3)\n",
    "plt.plot(range(10,105),percent_ignores3)"
   ]
  },
  {
   "cell_type": "code",
   "execution_count": 357,
   "id": "cd6d9288",
   "metadata": {},
   "outputs": [
    {
     "data": {
      "text/plain": [
       "56"
      ]
     },
     "execution_count": 357,
     "metadata": {},
     "output_type": "execute_result"
    }
   ],
   "source": [
    "range(10,100)[np.where(np.array(percent_succeses3)>=0.9)[0][0]]"
   ]
  },
  {
   "cell_type": "code",
   "execution_count": 344,
   "id": "562bab0a",
   "metadata": {},
   "outputs": [
    {
     "data": {
      "text/plain": [
       "0.9"
      ]
     },
     "execution_count": 344,
     "metadata": {},
     "output_type": "execute_result"
    }
   ],
   "source": [
    "percent_succeses3[40]"
   ]
  },
  {
   "cell_type": "code",
   "execution_count": null,
   "id": "351eaf2c",
   "metadata": {},
   "outputs": [
    {
     "name": "stdout",
     "output_type": "stream",
     "text": [
      "[(77, 1)]\n",
      "[(10, 9)]\n",
      "[(27, 5)]\n",
      "[(6, 0)]\n",
      "[(76, 9)]\n",
      "[(0, 10)]\n",
      "[(1, 5)]\n",
      "[(25, 8)]\n",
      "[(19, 9)]\n",
      "[(134, 21)]\n",
      "[(0, 0)]\n",
      "[(42, 4)]\n",
      "[(129, 4)]\n",
      "[(107, 11)]\n",
      "[(115, 4)]\n",
      "[(133, 14)]\n",
      "[(114, 16)]\n"
     ]
    }
   ],
   "source": [
    "for i in valid_masks3:\n",
    "    if len(i)<2:\n",
    "        "
   ]
  },
  {
   "cell_type": "code",
   "execution_count": 429,
   "id": "10899013",
   "metadata": {},
   "outputs": [
    {
     "data": {
      "text/plain": [
       "0.7099236641221374"
      ]
     },
     "execution_count": 429,
     "metadata": {},
     "output_type": "execute_result"
    }
   ],
   "source": [
    "single_instances = 0\n",
    "true_instances = 0\n",
    "all_instances = len(np.unique(loop_clusters))\n",
    "for label in np.unique(loop_clusters):\n",
    "    # Get the indices for the current cluster\n",
    "    indices = np.where(loop_clusters == label)[0]  # Extract the array from the tuple\n",
    "    corresponding_masks = [item for idx in indices for item in loop_valid_masks[idx]]\n",
    "    if len(corresponding_masks)==1:\n",
    "        single_instances += 1\n",
    "        continue\n",
    "    object_labels = [semantic_map.gt_pred_correspondences[img_id][mask_id][0] for idx in indices for img_id, mask_id in loop_valid_masks[idx]]\n",
    "    all_equal = len(set(object_labels)) == 1\n",
    "    if all_equal:\n",
    "        true_instances += len(object_labels)\n",
    "(single_instances+true_instances)/counter"
   ]
  },
  {
   "cell_type": "code",
   "execution_count": 678,
   "id": "ef535cc1",
   "metadata": {},
   "outputs": [],
   "source": [
    "def method3(semantic_map,min_num_feature):\n",
    "    graph = semantic_map.G\n",
    "    masks_with_keypoints = {}\n",
    "    for img_id, val in semantic_map.refined_prediction_masks.items():\n",
    "        if img_id not in masks_with_keypoints.keys():\n",
    "            masks_with_keypoints[img_id] = {}\n",
    "        for mask_id, mask in val.items():\n",
    "            _,ids = semantic_map.get_valid_keypoints(img_id,mask_id)\n",
    "            if len(ids) >= min_num_feature:\n",
    "                masks_with_keypoints[img_id][mask_id]= {\"mask\":mask,\"valid_keypoints\":np.where(ids==1)[0]}\n",
    "    for node0, node1, attrs in graph.edges(data=True):\n",
    "        matches = attrs[\"matches\"].cpu().numpy()\n",
    "        lookup_table = {kpt: mask_id1 for mask_id1, mask_kpts1 in masks_with_keypoints[node1].items() for kpt in mask_kpts1[\"valid_keypoints\"]}\n",
    "        for mask_id0, mask_kpts0 in masks_with_keypoints[node0].items():\n",
    "            mask0, valid_kps0 = mask_kpts0[\"mask\"],mask_kpts0[\"valid_keypoints\"]\n",
    "            print(valid_kps0)\n",
    "            # make a new list if element in valid_indices is in matches01[:, 0] without iterating\n",
    "            valid_indices = np.intersect1d(valid_kps0, matches[:, 0])\n",
    "            print(f\"Valid indices{valid_indices}\")\n",
    "            # find the index of the valid_indices in matches01[:, 0]\n",
    "            match_indices = np.where(np.isin(matches[:, 0], valid_indices))[0]\n",
    "            corresponding_indices = matches[match_indices, 1].tolist()\n",
    "            print(f\"Corresponding indices{corresponding_indices}\")\n",
    "\n",
    "            corresponding_objects = [(mask_id0, lookup_table.get(kpts1, None)) for kpts1 in corresponding_indices\n",
    "                            if lookup_table.get(kpts1, None) is not None]\n",
    "            # find the corresponding objects in objects1 if key is not in lookup_table, skip it\n",
    "            object_feature_pair = [((mask_id0, lookup_table.get(kpts1, None)),(kpts0,kpts1), ) for kpts0, kpts1 in zip(valid_indices, corresponding_indices)\n",
    "                                    if lookup_table.get(kpts1, None) is not None]\n",
    "            try:\n",
    "                corresponding_objects, corresponding_features = zip(*object_feature_pair)\n",
    "                # make them lists\n",
    "                corresponding_objects, corresponding_features = list(corresponding_objects), list(corresponding_features)\n",
    "            except ValueError:\n",
    "                corresponding_objects, corresponding_features = [], []\n",
    "            if corresponding_objects:\n",
    "                # Find the count for each pair\n",
    "                pair_count = Counter(corresponding_objects)\n",
    "\n",
    "                # take the maximum count and the corresponding pair\n",
    "                max_pair, max_count = pair_count.most_common(1)[0]\n",
    "                print(node0, max_pair[0], node1, max_pair[1])"
   ]
  },
  {
   "cell_type": "code",
   "execution_count": 673,
   "id": "56cf53dc",
   "metadata": {},
   "outputs": [],
   "source": [
    "_,ids = semantic_map.get_valid_keypoints(img_id,mask_id)"
   ]
  },
  {
   "cell_type": "code",
   "execution_count": null,
   "id": "18b80c9b",
   "metadata": {},
   "outputs": [
    {
     "data": {
      "text/plain": [
       "array([  9,  12,  16,  17,  20,  27,  29,  31,  32,  33,  37,  40,  42,\n",
       "        44,  45,  46,  49,  51,  52,  55,  57,  59,  61,  63,  64,  65,\n",
       "        69,  71,  72,  73,  75,  90, 114], dtype=int64)"
      ]
     },
     "execution_count": 675,
     "metadata": {},
     "output_type": "execute_result"
    }
   ],
   "source": []
  },
  {
   "cell_type": "code",
   "execution_count": 682,
   "id": "e7958617",
   "metadata": {},
   "outputs": [
    {
     "data": {
      "image/png": "[encoded data removed]",
      "text/plain": [
       "<Figure size 432x288 with 1 Axes>"
      ]
     },
     "metadata": {
      "needs_background": "light"
     },
     "output_type": "display_data"
    }
   ],
   "source": [
    "mask = semantic_map.refined_prediction_masks[5][0]\n",
    "plt.imshow(mask,cmap=\"gray\")\n",
    "plt.show()"
   ]
  },
  {
   "cell_type": "code",
   "execution_count": 683,
   "id": "9fe4e2ce",
   "metadata": {},
   "outputs": [
    {
     "data": {
      "image/png": "[encoded data removed]",
      "text/plain": [
       "<Figure size 432x864 with 1 Axes>"
      ]
     },
     "metadata": {
      "needs_background": "light"
     },
     "output_type": "display_data"
    }
   ],
   "source": [
    "semantic_map.display_rgb_observation(5)"
   ]
  },
  {
   "cell_type": "code",
   "execution_count": 1275,
   "id": "00908dd1",
   "metadata": {},
   "outputs": [],
   "source": [
    "def method3(semantic_map,min_num_feature):\n",
    "    graph = semantic_map.G\n",
    "    masks_with_keypoints = {}\n",
    "    for img_id, val in semantic_map.refined_prediction_masks.items():\n",
    "        if img_id not in masks_with_keypoints.keys():\n",
    "            masks_with_keypoints[img_id] = {}\n",
    "        for mask_id, mask in val.items():\n",
    "            _,ids = semantic_map.get_valid_keypoints(img_id,mask_id)\n",
    "            if len(np.where(ids==1)[0]) >= min_num_feature:\n",
    "                masks_with_keypoints[img_id][mask_id]= {\"mask\":mask,\"valid_keypoints\":np.where(ids==1)[0]}\n",
    "    object_list=[]\n",
    "    for node0, node1, attrs in graph.edges(data=True):\n",
    "        matches = attrs[\"matches\"].cpu().numpy()\n",
    "        lookup_table = {kpt: mask_id1 for mask_id1, mask_kpts1 in masks_with_keypoints[node1].items() for kpt in mask_kpts1[\"valid_keypoints\"]}\n",
    "        for mask_id0, mask_kpts0 in masks_with_keypoints[node0].items():\n",
    "            mask0, valid_kps0 = mask_kpts0[\"mask\"],mask_kpts0[\"valid_keypoints\"]\n",
    "            # make a new list if element in valid_indices is in matches01[:, 0] without iterating\n",
    "            valid_indices = np.intersect1d(valid_kps0, matches[:, 0])\n",
    "            # find the index of the valid_indices in matches01[:, 0]\n",
    "            match_indices = np.where(np.isin(matches[:, 0], valid_indices))[0]\n",
    "            corresponding_indices = matches[match_indices, 1].tolist()\n",
    "\n",
    "            corresponding_objects = [(mask_id0, lookup_table.get(kpts1, None)) for kpts1 in corresponding_indices\n",
    "                            if lookup_table.get(kpts1, None) is not None]\n",
    "            # find the corresponding objects in objects1 if key is not in lookup_table, skip it\n",
    "            object_feature_pair = [((mask_id0, lookup_table.get(kpts1, None)),(kpts0,kpts1), ) for kpts0, kpts1 in zip(valid_indices, corresponding_indices)\n",
    "                                    if lookup_table.get(kpts1, None) is not None]\n",
    "            try:\n",
    "                corresponding_objects, corresponding_features = zip(*object_feature_pair)\n",
    "                # make them lists\n",
    "                corresponding_objects, corresponding_features = list(corresponding_objects), list(corresponding_features)\n",
    "            except ValueError:\n",
    "                corresponding_objects, corresponding_features = [], []\n",
    "            if corresponding_objects:\n",
    "                # Find the count for each pair\n",
    "                pair_count = Counter(corresponding_objects)\n",
    "\n",
    "                # take the maximum count and the corresponding pair\n",
    "                max_pair, max_count = pair_count.most_common(1)[0]\n",
    "\n",
    "                confidence = max_count / len(corresponding_objects)\n",
    "                min_feat_count = min(len(masks_with_keypoints[node0][max_pair[0]][\"valid_keypoints\"]), len(masks_with_keypoints[node1][max_pair[1]][\"valid_keypoints\"]))\n",
    "                avg_feat_count = (len(masks_with_keypoints[node0][max_pair[0]][\"valid_keypoints\"]) +len(masks_with_keypoints[node1][max_pair[1]][\"valid_keypoints\"])) / 2\n",
    "                score = confidence * max_count**2 / (avg_feat_count * min_feat_count)\n",
    "                if max_pair[0] == 0 and max_pair[1] == 0 and node0 == 0 and node1 == 5:\n",
    "                    print(score)\n",
    "                # pair_scores.append((max_pair, score))\n",
    "                if score >= 0.3:\n",
    "                    object_list.append((node0,max_pair[0],node1,max_pair[1]))\n",
    "\n",
    "    return object_list"
   ]
  },
  {
   "cell_type": "code",
   "execution_count": 1276,
   "id": "d8726ae3",
   "metadata": {},
   "outputs": [
    {
     "name": "stdout",
     "output_type": "stream",
     "text": [
      "0.08384508310816342\n"
     ]
    }
   ],
   "source": [
    "object_matches = method3(semantic_map,15)"
   ]
  },
  {
   "cell_type": "code",
   "execution_count": 1285,
   "id": "30e7ce40",
   "metadata": {},
   "outputs": [
    {
     "data": {
      "text/plain": [
       "2322"
      ]
     },
     "execution_count": 1285,
     "metadata": {},
     "output_type": "execute_result"
    }
   ],
   "source": [
    "len(object_matches)"
   ]
  },
  {
   "cell_type": "code",
   "execution_count": 711,
   "id": "702faf96",
   "metadata": {},
   "outputs": [],
   "source": [
    "from collections import defaultdict\n",
    "class UnionFind:\n",
    "    def __init__(self):\n",
    "        self.parent = {}\n",
    "        self.rank = {}\n",
    "\n",
    "    def find(self, x):\n",
    "        if self.parent[x] != x:\n",
    "            self.parent[x] = self.find(self.parent[x])  # Path compression\n",
    "        return self.parent[x]\n",
    "\n",
    "    def union(self, x, y):\n",
    "        rootX = self.find(x)\n",
    "        rootY = self.find(y)\n",
    "\n",
    "        if rootX != rootY:\n",
    "            # Union by rank\n",
    "            if self.rank[rootX] > self.rank[rootY]:\n",
    "                self.parent[rootY] = rootX\n",
    "            elif self.rank[rootX] < self.rank[rootY]:\n",
    "                self.parent[rootX] = rootY\n",
    "            else:\n",
    "                self.parent[rootY] = rootX\n",
    "                self.rank[rootX] += 1\n",
    "\n",
    "    def add(self, x):\n",
    "        if x not in self.parent:\n",
    "            self.parent[x] = x\n",
    "            self.rank[x] = 0\n",
    "\n",
    "def find_connected_components(grouped_relations):\n",
    "    uf = UnionFind()\n",
    "\n",
    "    # Build the Union-Find structure and perform unions\n",
    "    for group in grouped_relations:\n",
    "        # Add all the tuples in the group to the Union-Find structure first\n",
    "        for (a, b) in group:\n",
    "            uf.add((a, b))  # Ensure both tuples are added to the structure\n",
    "            \n",
    "        # Now, union each pair in the group\n",
    "        for i, (a, b) in enumerate(group):\n",
    "            for j, (c, d) in enumerate(group):\n",
    "                if (a, b) != (c, d):  # Avoid self-union\n",
    "                    uf.union((a, b), (c, d))\n",
    "\n",
    "    # Collect connected components\n",
    "    components = defaultdict(list)  # Now this will work because defaultdict is imported\n",
    "    for node in uf.parent:\n",
    "        root = uf.find(node)\n",
    "        components[root].append(node)\n",
    "\n",
    "    return list(components.values())"
   ]
  },
  {
   "cell_type": "code",
   "execution_count": 1167,
   "id": "e595f97a",
   "metadata": {},
   "outputs": [
    {
     "name": "stdout",
     "output_type": "stream",
     "text": [
      "544\n"
     ]
    }
   ],
   "source": [
    "counter = 0\n",
    "for item in short_gs2:\n",
    "    counter += len(item)\n",
    "print(counter)"
   ]
  },
  {
   "cell_type": "code",
   "execution_count": 1165,
   "id": "60b2daf7",
   "metadata": {},
   "outputs": [
    {
     "name": "stdout",
     "output_type": "stream",
     "text": [
      "13\n"
     ]
    }
   ],
   "source": [
    "gs2 = find_connected_components(object_list)\n",
    "short_gs2 = [g for g in gs2 if len(g) >= 3]\n",
    "print(len(short_gs2))\n",
    "for idx,labels in enumerate(short_gs2):\n",
    "    output_folder = f\"./outputs/{idx}\"\n",
    "    if not os.path.exists(output_folder):\n",
    "        os.mkdir(output_folder)\n",
    "    for img_id,mask_id in labels: \n",
    "        rgb_img = semantic_map.rgb_observations[img_id].copy()\n",
    "        mask = semantic_map.refined_prediction_masks[img_id][mask_id]\n",
    "        kernel = np.ones((3, 3), np.uint8)\n",
    "        dilated_mask = cv2.dilate(mask,kernel,iterations=1)\n",
    "        edges = dilated_mask - mask\n",
    "        rgb_img[edges==1] = [255,0,0]\n",
    "        res = cv2.cvtColor(rgb_img,cv2.COLOR_RGB2BGR)\n",
    "        try:\n",
    "            image_path = os.path.join(output_folder,f\"{img_id}_{mask_id}_{semantic_map.gt_pred_correspondences[img_id][mask_id][0]}.png\")\n",
    "        except:\n",
    "            image_path = os.path.join(output_folder,f\"{img_id}_{mask_id}.png\")\n",
    "        cv2.imwrite(image_path,res)\n",
    "    "
   ]
  },
  {
   "cell_type": "code",
   "execution_count": null,
   "id": "04ced8b5",
   "metadata": {},
   "outputs": [],
   "source": []
  },
  {
   "cell_type": "code",
   "execution_count": 1286,
   "id": "ee73d7e7",
   "metadata": {},
   "outputs": [
    {
     "name": "stdout",
     "output_type": "stream",
     "text": [
      "2322\n",
      "41\n"
     ]
    }
   ],
   "source": [
    "grouped_relations = [[(d[0],d[1]),(d[2],d[3])] for d in object_matches]\n",
    "print(len(grouped_relations))\n",
    "grouped_set = find_connected_components(grouped_relations)\n",
    "print(len(grouped_set))\n"
   ]
  },
  {
   "cell_type": "code",
   "execution_count": null,
   "id": "4e2f532e",
   "metadata": {},
   "outputs": [
    {
     "name": "stdout",
     "output_type": "stream",
     "text": [
      "498\n"
     ]
    }
   ],
   "source": [
    "counter = 0\n",
    "for i in grouped_set:\n",
    "    counter += len(i)\n",
    "print(counter)"
   ]
  },
  {
   "cell_type": "code",
   "execution_count": 1280,
   "id": "6a6de51a",
   "metadata": {},
   "outputs": [
    {
     "name": "stdout",
     "output_type": "stream",
     "text": [
      "25\n"
     ]
    }
   ],
   "source": [
    "short_grouped_set = [g for g in grouped_set if len(g) >= 3]\n",
    "print(len(short_grouped_set))"
   ]
  },
  {
   "cell_type": "code",
   "execution_count": 1297,
   "id": "87ac749a",
   "metadata": {},
   "outputs": [
    {
     "name": "stdout",
     "output_type": "stream",
     "text": [
      "Adjusted Rand Index (ARI): 0.8966356029050628\n",
      "Normalized Mutual Information (NMI): 0.9673561635104748\n",
      "Fowlkes-Mallows Score: 0.9079743205473197\n",
      "Homogeneity: 0.997623774276127\n",
      "Completeness: 0.9388710917850224\n",
      "V-Measure: 0.9673561635104748\n"
     ]
    }
   ],
   "source": [
    "from sklearn.metrics import (\n",
    "    adjusted_rand_score,\n",
    "    normalized_mutual_info_score,\n",
    "    v_measure_score,\n",
    "    homogeneity_score,\n",
    "    completeness_score,\n",
    "    fowlkes_mallows_score\n",
    ")\n",
    "\n",
    "# Example: ground truth and predicted cluster labels (with unequal counts)\n",
    "true_labels =    gt_labels\n",
    "predicted_labels = pred_labels\n",
    "\n",
    "# Compute clustering metrics\n",
    "print(\"Adjusted Rand Index (ARI):\", adjusted_rand_score(true_labels, predicted_labels))\n",
    "print(\"Normalized Mutual Information (NMI):\", normalized_mutual_info_score(true_labels, predicted_labels))\n",
    "print(\"Fowlkes-Mallows Score:\", fowlkes_mallows_score(true_labels, predicted_labels))\n",
    "print(\"Homogeneity:\", homogeneity_score(true_labels, predicted_labels))\n",
    "print(\"Completeness:\", completeness_score(true_labels, predicted_labels))\n",
    "print(\"V-Measure:\", v_measure_score(true_labels, predicted_labels))"
   ]
  },
  {
   "cell_type": "code",
   "execution_count": 1296,
   "id": "7f40c0f1",
   "metadata": {},
   "outputs": [
    {
     "name": "stdout",
     "output_type": "stream",
     "text": [
      "25\n"
     ]
    }
   ],
   "source": [
    "mask_count = 0\n",
    "gt_labels = []\n",
    "pred_labels = []\n",
    "for idx,i in enumerate(short_grouped_set):\n",
    "    for img_id, mask_id in i:\n",
    "        try:\n",
    "            gt_label = semantic_map.gt_pred_correspondences[img_id][mask_id][0]\n",
    "            gt_labels.append(gt_label)\n",
    "            pred_label = idx\n",
    "            pred_labels.append(pred_label)\n",
    "        except:\n",
    "            continue\n",
    "print(len(np.unique(pred_labels)))"
   ]
  },
  {
   "cell_type": "code",
   "execution_count": null,
   "id": "81b7eccd",
   "metadata": {},
   "outputs": [
    {
     "data": {
      "text/plain": [
       "[22,\n",
       " 22,\n",
       " 22,\n",
       " 22,\n",
       " 22,\n",
       " 22,\n",
       " 22,\n",
       " 4,\n",
       " 4,\n",
       " 4,\n",
       " 4,\n",
       " 4,\n",
       " 4,\n",
       " 4,\n",
       " 4,\n",
       " 4,\n",
       " 4,\n",
       " 4,\n",
       " 4,\n",
       " 4,\n",
       " 4,\n",
       " 4,\n",
       " 4,\n",
       " 4,\n",
       " 4,\n",
       " 4,\n",
       " 4,\n",
       " 4,\n",
       " 4,\n",
       " 4,\n",
       " 4,\n",
       " 4,\n",
       " 4,\n",
       " 16,\n",
       " 16,\n",
       " 16,\n",
       " 16,\n",
       " 16,\n",
       " 16,\n",
       " 16,\n",
       " 16,\n",
       " 16,\n",
       " 16,\n",
       " 16,\n",
       " 16,\n",
       " 16,\n",
       " 16,\n",
       " 16,\n",
       " 16,\n",
       " 16,\n",
       " 16,\n",
       " 16,\n",
       " 16,\n",
       " 16,\n",
       " 16,\n",
       " 16,\n",
       " 16,\n",
       " 16,\n",
       " 16,\n",
       " 16,\n",
       " 16,\n",
       " 16,\n",
       " 16,\n",
       " 16,\n",
       " 16,\n",
       " 16,\n",
       " 32,\n",
       " 32,\n",
       " 32,\n",
       " 32,\n",
       " 32,\n",
       " 32,\n",
       " 32,\n",
       " 32,\n",
       " 32,\n",
       " 32,\n",
       " 32,\n",
       " 32,\n",
       " 32,\n",
       " 32,\n",
       " 32,\n",
       " 32,\n",
       " 32,\n",
       " 32,\n",
       " 32,\n",
       " 32,\n",
       " 32,\n",
       " 32,\n",
       " 8,\n",
       " 8,\n",
       " 8,\n",
       " 8,\n",
       " 8,\n",
       " 8,\n",
       " 8,\n",
       " 8,\n",
       " 8,\n",
       " 8,\n",
       " 8,\n",
       " 8,\n",
       " 10,\n",
       " 10,\n",
       " 10,\n",
       " 10,\n",
       " 10,\n",
       " 10,\n",
       " 10,\n",
       " 10,\n",
       " 10,\n",
       " 10,\n",
       " 10,\n",
       " 10,\n",
       " 10,\n",
       " 10,\n",
       " 47,\n",
       " 47,\n",
       " 47,\n",
       " 47,\n",
       " 47,\n",
       " 47,\n",
       " 47,\n",
       " 47,\n",
       " 47,\n",
       " 47,\n",
       " 47,\n",
       " 47,\n",
       " 47,\n",
       " 47,\n",
       " 47,\n",
       " 44,\n",
       " 44,\n",
       " 44,\n",
       " 44,\n",
       " 44,\n",
       " 32,\n",
       " 32,\n",
       " 32,\n",
       " 32,\n",
       " 32,\n",
       " 35,\n",
       " 32,\n",
       " 32,\n",
       " 104,\n",
       " 104,\n",
       " 104,\n",
       " 104,\n",
       " 104,\n",
       " 104,\n",
       " 104,\n",
       " 104,\n",
       " 104,\n",
       " 104,\n",
       " 104,\n",
       " 104,\n",
       " 104,\n",
       " 104,\n",
       " 104,\n",
       " 104,\n",
       " 104,\n",
       " 104,\n",
       " 104,\n",
       " 104,\n",
       " 104,\n",
       " 104,\n",
       " 104,\n",
       " 104,\n",
       " 104,\n",
       " 104,\n",
       " 104,\n",
       " 104,\n",
       " 104,\n",
       " 104,\n",
       " 104,\n",
       " 104,\n",
       " 104,\n",
       " 104,\n",
       " 104,\n",
       " 104,\n",
       " 104,\n",
       " 104,\n",
       " 104,\n",
       " 104,\n",
       " 104,\n",
       " 30,\n",
       " 30,\n",
       " 30,\n",
       " 30,\n",
       " 30,\n",
       " 30,\n",
       " 30,\n",
       " 132,\n",
       " 132,\n",
       " 132,\n",
       " 132,\n",
       " 107,\n",
       " 107,\n",
       " 107,\n",
       " 107,\n",
       " 107,\n",
       " 107,\n",
       " 107,\n",
       " 107,\n",
       " 107,\n",
       " 107,\n",
       " 107,\n",
       " 107,\n",
       " 107,\n",
       " 107,\n",
       " 107,\n",
       " 107,\n",
       " 107,\n",
       " 107,\n",
       " 107,\n",
       " 107,\n",
       " 107,\n",
       " 107,\n",
       " 107,\n",
       " 107,\n",
       " 107,\n",
       " 107,\n",
       " 107,\n",
       " 107,\n",
       " 132,\n",
       " 132,\n",
       " 132,\n",
       " 132,\n",
       " 132,\n",
       " 132,\n",
       " 132,\n",
       " 132,\n",
       " 132,\n",
       " 132,\n",
       " 132,\n",
       " 132,\n",
       " 132,\n",
       " 132,\n",
       " 132,\n",
       " 132,\n",
       " 132,\n",
       " 132,\n",
       " 132,\n",
       " 9,\n",
       " 9,\n",
       " 9,\n",
       " 287,\n",
       " 287,\n",
       " 287,\n",
       " 287,\n",
       " 228,\n",
       " 228,\n",
       " 228,\n",
       " 228,\n",
       " 228,\n",
       " 194,\n",
       " 194,\n",
       " 194,\n",
       " 194,\n",
       " 194,\n",
       " 186,\n",
       " 186,\n",
       " 186,\n",
       " 137,\n",
       " 137,\n",
       " 137,\n",
       " 137,\n",
       " 137,\n",
       " 137,\n",
       " 137,\n",
       " 137,\n",
       " 137,\n",
       " 137,\n",
       " 137,\n",
       " 137,\n",
       " 137,\n",
       " 137,\n",
       " 137,\n",
       " 137,\n",
       " 137,\n",
       " 137,\n",
       " 137,\n",
       " 137,\n",
       " 137,\n",
       " 137,\n",
       " 137,\n",
       " 137,\n",
       " 137,\n",
       " 137,\n",
       " 137,\n",
       " 137,\n",
       " 137,\n",
       " 137,\n",
       " 137,\n",
       " 137,\n",
       " 137,\n",
       " 137,\n",
       " 137,\n",
       " 137,\n",
       " 137,\n",
       " 137,\n",
       " 137,\n",
       " 137,\n",
       " 137,\n",
       " 137,\n",
       " 137,\n",
       " 137,\n",
       " 132,\n",
       " 132,\n",
       " 132,\n",
       " 132,\n",
       " 132,\n",
       " 132,\n",
       " 132,\n",
       " 132,\n",
       " 132,\n",
       " 132,\n",
       " 132,\n",
       " 132,\n",
       " 132,\n",
       " 132,\n",
       " 132,\n",
       " 132,\n",
       " 132,\n",
       " 132,\n",
       " 132,\n",
       " 132,\n",
       " 132,\n",
       " 132,\n",
       " 132,\n",
       " 132,\n",
       " 132,\n",
       " 132,\n",
       " 132,\n",
       " 132,\n",
       " 132,\n",
       " 132,\n",
       " 132,\n",
       " 132,\n",
       " 132,\n",
       " 132,\n",
       " 132,\n",
       " 132,\n",
       " 132,\n",
       " 132,\n",
       " 132,\n",
       " 132,\n",
       " 132,\n",
       " 132,\n",
       " 132,\n",
       " 132,\n",
       " 132,\n",
       " 132,\n",
       " 132,\n",
       " 132,\n",
       " 135,\n",
       " 135,\n",
       " 135,\n",
       " 135,\n",
       " 135,\n",
       " 135,\n",
       " 135,\n",
       " 135,\n",
       " 135,\n",
       " 135,\n",
       " 135,\n",
       " 135,\n",
       " 135,\n",
       " 135,\n",
       " 135,\n",
       " 135,\n",
       " 135,\n",
       " 135,\n",
       " 135,\n",
       " 135,\n",
       " 135,\n",
       " 135,\n",
       " 135,\n",
       " 135,\n",
       " 135,\n",
       " 135,\n",
       " 135,\n",
       " 135,\n",
       " 135,\n",
       " 135,\n",
       " 135,\n",
       " 135,\n",
       " 135,\n",
       " 135,\n",
       " 135,\n",
       " 135,\n",
       " 135,\n",
       " 186,\n",
       " 186,\n",
       " 186,\n",
       " 186,\n",
       " 186,\n",
       " 186,\n",
       " 186,\n",
       " 186,\n",
       " 186,\n",
       " 186,\n",
       " 186,\n",
       " 186,\n",
       " 186,\n",
       " 186,\n",
       " 186,\n",
       " 186,\n",
       " 186,\n",
       " 186,\n",
       " 186,\n",
       " 186,\n",
       " 186,\n",
       " 186,\n",
       " 186,\n",
       " 186,\n",
       " 186,\n",
       " 186,\n",
       " 186,\n",
       " 186,\n",
       " 186,\n",
       " 186,\n",
       " 186,\n",
       " 186,\n",
       " 186,\n",
       " 186,\n",
       " 186,\n",
       " 186,\n",
       " 186,\n",
       " 186,\n",
       " 186,\n",
       " 186,\n",
       " 186,\n",
       " 186,\n",
       " 0,\n",
       " 0,\n",
       " 0,\n",
       " 0,\n",
       " 0,\n",
       " 0,\n",
       " 0,\n",
       " 0,\n",
       " 0,\n",
       " 0,\n",
       " 0,\n",
       " 0,\n",
       " 0,\n",
       " 0,\n",
       " 0,\n",
       " 0,\n",
       " 0,\n",
       " 0,\n",
       " 0,\n",
       " 0,\n",
       " 0,\n",
       " 0,\n",
       " 0,\n",
       " 0,\n",
       " 0,\n",
       " 0,\n",
       " 0,\n",
       " 0,\n",
       " 0,\n",
       " 0,\n",
       " 0,\n",
       " 75,\n",
       " 75,\n",
       " 75]"
      ]
     },
     "execution_count": 1294,
     "metadata": {},
     "output_type": "execute_result"
    }
   ],
   "source": [
    "pred_labels, gt_labels"
   ]
  },
  {
   "cell_type": "code",
   "execution_count": 1288,
   "id": "00e8f9ed",
   "metadata": {},
   "outputs": [],
   "source": [
    "final_labels = []\n",
    "count_object_labels = []\n",
    "for idx,labels in enumerate(short_grouped_set):\n",
    "    object_labels = []\n",
    "    for img_id,mask_id in labels:\n",
    "        try:\n",
    "            gt_label = semantic_map.gt_pred_correspondences[img_id][mask_id][0]\n",
    "        except:\n",
    "            continue\n",
    "        object_labels.append(gt_label)\n",
    "    if object_labels:\n",
    "        counter = Counter(object_labels)\n",
    "        most_common = counter.most_common(1)[0]\n",
    "        final_labels.append((idx,most_common[0],most_common[1]/len(object_labels)))\n",
    "        count_object_labels.append(most_common[0])\n",
    "    else:\n",
    "        print(idx)\n",
    "    \n"
   ]
  },
  {
   "cell_type": "code",
   "execution_count": null,
   "id": "1ad920ea",
   "metadata": {},
   "outputs": [],
   "source": [
    "print(\"Homogeneity:\", homogeneity_score(true_labels, predicted_labels))\n",
    "print(\"Completeness:\", completeness_score(true_labels, predicted_labels))"
   ]
  },
  {
   "cell_type": "code",
   "execution_count": 1289,
   "id": "5950d6d4",
   "metadata": {},
   "outputs": [
    {
     "data": {
      "text/plain": [
       "[(0, 22, 1.0),\n",
       " (1, 4, 1.0),\n",
       " (2, 16, 1.0),\n",
       " (3, 32, 1.0),\n",
       " (4, 8, 1.0),\n",
       " (5, 10, 1.0),\n",
       " (6, 47, 1.0),\n",
       " (7, 44, 1.0),\n",
       " (8, 32, 0.875),\n",
       " (9, 104, 1.0),\n",
       " (10, 30, 1.0),\n",
       " (11, 132, 1.0),\n",
       " (12, 107, 1.0),\n",
       " (13, 132, 1.0),\n",
       " (14, 9, 1.0),\n",
       " (15, 287, 1.0),\n",
       " (16, 228, 1.0),\n",
       " (17, 194, 1.0),\n",
       " (18, 186, 1.0),\n",
       " (19, 137, 1.0),\n",
       " (20, 132, 1.0),\n",
       " (21, 135, 1.0),\n",
       " (22, 186, 1.0),\n",
       " (23, 0, 1.0),\n",
       " (24, 75, 1.0)]"
      ]
     },
     "execution_count": 1289,
     "metadata": {},
     "output_type": "execute_result"
    }
   ],
   "source": [
    "final_labels"
   ]
  },
  {
   "cell_type": "code",
   "execution_count": 875,
   "id": "edaab6b0",
   "metadata": {},
   "outputs": [],
   "source": [
    "def chordal_distance(U, V):\n",
    "    M = U.T @ V\n",
    "    # Use numpy.linalg.svd\n",
    "    sigma = np.linalg.svd(M, compute_uv=False)\n",
    "    sin_squared = 1 - sigma**2\n",
    "    return np.sqrt(np.sum(sin_squared))\n",
    "\n",
    "def generate_distance_matrix_subspace_v4(semantic_map,k,group_set,distance_type=\"projection\"):\n",
    "    subspaces = []\n",
    "    identifiers = []\n",
    "    for idx,labels in enumerate(group_set):\n",
    "        descriptors = np.empty((0,256))\n",
    "        for img_id,mask_id in labels:\n",
    "            _, valid = semantic_map.get_valid_keypoints(img_id,mask_id)\n",
    "            descriptor_local = semantic_map.descriptors[img_id][valid].copy()\n",
    "            descriptors = np.vstack([descriptors,descriptor_local])\n",
    "        if descriptors.shape[0]>=k:\n",
    "            subspaces.append(get_subspace(descriptors.T,k))\n",
    "            exists = [t[1] for t in final_labels if t[0] == idx]\n",
    "            if exists:\n",
    "                identifiers.append((exists[0],semantic_map.instance_id_to_name[exists[0]],idx))\n",
    "            else:\n",
    "                identifiers.append((None,\"Unknown\",idx))\n",
    "        else:\n",
    "            continue\n",
    "            \n",
    "    distances = np.zeros((len(subspaces), len(subspaces)))\n",
    "\n",
    "    # Compute the pairwise distances only for the upper triangle (including diagonal)\n",
    "    for i in range(len(subspaces)):\n",
    "        for j in range(i, len(subspaces)):  # j starts from i to avoid redundant calculations\n",
    "            if distance_type == \"projection\":\n",
    "                dist = projection_distance(subspaces[i], subspaces[j])\n",
    "            elif distance_type == \"chordal_distance\":\n",
    "                dist = chordal_distance(subspaces[i], subspaces[j])\n",
    "            distances[i, j] = dist\n",
    "            distances[j, i] = dist\n",
    "    return distances, identifiers"
   ]
  },
  {
   "cell_type": "code",
   "execution_count": 1000,
   "id": "91a565fc",
   "metadata": {},
   "outputs": [
    {
     "name": "stderr",
     "output_type": "stream",
     "text": [
      "C:\\Users\\Afiyet Olsun\\AppData\\Local\\Temp\\ipykernel_6368\\1240334873.py:119: RuntimeWarning: invalid value encountered in sqrt\n",
      "  return np.sqrt(np.sum(sin_squared))\n"
     ]
    }
   ],
   "source": [
    "distances0, identifiers0 = generate_distance_matrix_subspace_v4(semantic_map,15,short_grouped_set,\"chordal_distance\")"
   ]
  },
  {
   "cell_type": "code",
   "execution_count": 933,
   "id": "e7c37ea8",
   "metadata": {},
   "outputs": [],
   "source": [
    "distances0 =np.nan_to_num(distances0, nan=0.0)"
   ]
  },
  {
   "cell_type": "code",
   "execution_count": 934,
   "id": "f63b9582",
   "metadata": {},
   "outputs": [],
   "source": [
    "linked0 = linkage(distances0, 'single')"
   ]
  },
  {
   "cell_type": "code",
   "execution_count": null,
   "id": "7f6e238f",
   "metadata": {},
   "outputs": [
    {
     "data": {
      "text/plain": [
       "[58]"
      ]
     },
     "execution_count": 976,
     "metadata": {},
     "output_type": "execute_result"
    }
   ],
   "source": [
    "[index for index,id in enumerate(identifiers0) if id[2] == ]"
   ]
  },
  {
   "cell_type": "code",
   "execution_count": null,
   "id": "50e80b75",
   "metadata": {},
   "outputs": [
    {
     "name": "stdout",
     "output_type": "stream",
     "text": [
      "[(3, 23), (6, 29), (6, 37), (11, 57), (11, 62), (12, 21), (12, 31), (13, 33), (16, 3), (16, 23), (19, 29), (20, 35), (21, 12), (21, 31), (22, 70), (23, 3), (24, 6), (29, 6), (29, 19), (31, 12), (33, 13), (35, 20), (36, 45), (37, 6), (41, 6), (43, 69), (45, 37), (47, 55), (53, 58), (57, 11), (57, 62), (58, 68), (62, 11), (62, 57), (66, 67), (67, 66), (69, 43)]\n"
     ]
    },
    {
     "name": "stderr",
     "output_type": "stream",
     "text": [
      "C:\\Users\\Afiyet Olsun\\AppData\\Local\\Temp\\ipykernel_6368\\3225651900.py:20: RuntimeWarning: Mean of empty slice\n",
      "  mean_value = np.nanmean(errors)\n"
     ]
    }
   ],
   "source": [
    "\n",
    "for id0 in range(71):    \n",
    "    errors = []\n",
    "    min_error = 10\n",
    "    for id1 in range(71):\n",
    "        if id0 == id1:\n",
    "            errors.append(np.array([np.nan]))\n",
    "            continue\n",
    "        i = [index for index,id in enumerate(identifiers0) if id[2] == id0]\n",
    "        j = [index for index,id in enumerate(identifiers0) if id[2] == id1]\n",
    "        if i and j:\n",
    "            error = distances0[i,j]\n",
    "            errors.append(error)\n",
    "        else:\n",
    "            continue\n",
    "        if error <= min_error:\n",
    "            min_error = error\n",
    "            best_id = id1\n",
    "    errors = np.array(errors)\n",
    "    mean_value = np.nanmean(errors)\n",
    "    # Replace NaNs with the mean\n",
    "    errors[np.isnan(errors)] = mean_value\n",
    "    anomalies = z_score_anomaly(errors)\n",
    "    if anomalies.shape[0]>0:\n",
    "        for anomaly in anomalies:\n",
    "            print(id0,anomaly)\n",
    "            matches.append((id0,short_to_long[anomaly]))\n",
    "print(matches)\n"
   ]
  },
  {
   "cell_type": "code",
   "execution_count": 1098,
   "id": "776839b6",
   "metadata": {},
   "outputs": [
    {
     "name": "stdout",
     "output_type": "stream",
     "text": [
      "13\n"
     ]
    }
   ],
   "source": [
    "counter = 0 \n",
    "for i in matches:\n",
    "    if i in pair_list:\n",
    "        counter += 1\n",
    "print(counter)"
   ]
  },
  {
   "cell_type": "code",
   "execution_count": 1097,
   "id": "b3cb6a25",
   "metadata": {},
   "outputs": [
    {
     "name": "stdout",
     "output_type": "stream",
     "text": [
      "tv tv\n",
      "door door\n",
      "door door\n",
      "Unknown Unknown\n",
      "Unknown Unknown\n",
      "door door\n",
      "door door\n",
      "door Unknown\n",
      "cabinet tv\n",
      "cabinet tv\n",
      "door door\n",
      "balustrade balustrade\n",
      "door door\n",
      "door door\n",
      "Unknown chandelier\n",
      "tv tv\n",
      "wardrobe door\n",
      "door door\n",
      "door door\n",
      "door door\n",
      "Unknown door\n",
      "balustrade balustrade\n",
      "door door\n",
      "door door\n",
      "couch door\n",
      "wardrobe wardrobe\n",
      "door door\n",
      "chair chair\n",
      "computer desk computer desk\n",
      "Unknown Unknown\n",
      "Unknown Unknown\n",
      "computer desk computer desk\n",
      "Unknown Unknown\n",
      "Unknown Unknown\n",
      "couch couch\n",
      "couch couch\n",
      "wardrobe wardrobe\n"
     ]
    }
   ],
   "source": [
    "for id0, id1 in matches:\n",
    "    print(identifiers0[long_to_short[id0]][1],identifiers0[long_to_short[id1]][1])"
   ]
  },
  {
   "cell_type": "code",
   "execution_count": 1050,
   "id": "186f1970",
   "metadata": {},
   "outputs": [
    {
     "data": {
      "text/plain": [
       "1"
      ]
     },
     "execution_count": 1050,
     "metadata": {},
     "output_type": "execute_result"
    }
   ],
   "source": [
    "long_to_short[2]"
   ]
  },
  {
   "cell_type": "code",
   "execution_count": 1048,
   "id": "c51959a4",
   "metadata": {},
   "outputs": [],
   "source": [
    "short_to_long = {}\n",
    "long_to_short = {}\n",
    "for id0 in range(71):\n",
    "    i = [index for index,id in enumerate(identifiers0) if id[2] == id0]\n",
    "    if i:\n",
    "        long_to_short[id0] = i[0]\n",
    "        short_to_long[i[0]] = id0\n",
    "    else:\n",
    "        long_to_short[id0] = None"
   ]
  },
  {
   "cell_type": "code",
   "execution_count": 1019,
   "id": "8f2a72b0",
   "metadata": {},
   "outputs": [
    {
     "data": {
      "text/plain": [
       "array([27, 34], dtype=int64)"
      ]
     },
     "execution_count": 1019,
     "metadata": {},
     "output_type": "execute_result"
    }
   ],
   "source": [
    "def z_score_anomaly(data, threshold=3.0):\n",
    "    mean = np.mean(data)\n",
    "    std = np.std(data)\n",
    "    z_scores = np.abs((data - mean) / std)\n",
    "    return np.where(z_scores > threshold)[0]\n",
    "z_score_anomaly(errors)"
   ]
  },
  {
   "cell_type": "code",
   "execution_count": 1020,
   "id": "8659361b",
   "metadata": {},
   "outputs": [
    {
     "data": {
      "text/plain": [
       "(array([2.56788093]), 37)"
      ]
     },
     "execution_count": 1020,
     "metadata": {},
     "output_type": "execute_result"
    }
   ],
   "source": [
    "min_error, best_id"
   ]
  },
  {
   "cell_type": "code",
   "execution_count": 1022,
   "id": "5fe8a524",
   "metadata": {},
   "outputs": [
    {
     "data": {
      "text/plain": [
       "[(1, 21),\n",
       " (1, 28),\n",
       " (21, 28),\n",
       " (3, 23),\n",
       " (4, 24),\n",
       " (8, 17),\n",
       " (10, 26),\n",
       " (11, 57),\n",
       " (11, 62),\n",
       " (57, 62),\n",
       " (12, 31),\n",
       " (12, 50),\n",
       " (31, 50),\n",
       " (13, 19),\n",
       " (13, 29),\n",
       " (13, 44),\n",
       " (19, 29),\n",
       " (19, 44),\n",
       " (29, 44),\n",
       " (14, 27),\n",
       " (18, 34),\n",
       " (20, 35),\n",
       " (20, 48),\n",
       " (35, 48),\n",
       " (30, 51),\n",
       " (36, 37),\n",
       " (36, 45),\n",
       " (37, 45),\n",
       " (41, 56),\n",
       " (43, 69),\n",
       " (47, 55),\n",
       " (49, 54),\n",
       " (49, 59),\n",
       " (49, 66),\n",
       " (49, 67),\n",
       " (54, 59),\n",
       " (54, 66),\n",
       " (54, 67),\n",
       " (59, 66),\n",
       " (59, 67),\n",
       " (66, 67),\n",
       " (53, 58),\n",
       " (53, 68),\n",
       " (58, 68),\n",
       " (61, 65)]"
      ]
     },
     "execution_count": 1022,
     "metadata": {},
     "output_type": "execute_result"
    }
   ],
   "source": [
    "pair_list"
   ]
  },
  {
   "cell_type": "code",
   "execution_count": 1023,
   "id": "1d1cce57",
   "metadata": {},
   "outputs": [
    {
     "name": "stdout",
     "output_type": "stream",
     "text": [
      "0 66 [2.83370759]\n",
      "1 66 10\n",
      "2 27 [2.94874255]\n",
      "4 0 [3.04198801]\n",
      "5 25 [3.08484048]\n",
      "6 37 [2.56788093]\n",
      "7 56 [2.8498772]\n",
      "9 34 [3.15580931]\n",
      "10 17 [3.01215677]\n",
      "12 21 [2.53674636]\n",
      "13 33 [2.45802092]\n",
      "15 43 [2.89480377]\n",
      "16 3 [2.94362563]\n",
      "18 0 [2.95949371]\n",
      "21 12 [2.53674636]\n",
      "22 14 [3.08185791]\n",
      "24 17 [3.04090638]\n",
      "25 69 [2.80384593]\n",
      "26 56 [2.95360807]\n",
      "28 12 [2.90873854]\n",
      "30 17 [3.06759596]\n",
      "32 12 10\n",
      "33 13 [2.45802092]\n",
      "34 0 [2.97428562]\n",
      "37 6 [2.56788093]\n",
      "38 6 10\n",
      "39 26 [3.01180257]\n",
      "40 19 [2.98284334]\n",
      "42 43 [3.03343335]\n",
      "46 7 [2.9462339]\n",
      "48 51 [2.92451078]\n",
      "49 51 10\n",
      "50 28 [2.97488112]\n",
      "51 43 [2.89290925]\n",
      "52 43 10\n",
      "54 58 10\n",
      "55 0 [2.96798727]\n",
      "56 67 [2.74293113]\n",
      "59 68 10\n",
      "60 51 [2.89643737]\n",
      "61 51 10\n",
      "63 43 [2.9828417]\n",
      "64 51 [2.91701058]\n",
      "65 68 [3.17077106]\n",
      "26\n"
     ]
    }
   ],
   "source": [
    "id0 = 4\n",
    "best_matches = []\n",
    "for id0 in range(70):\n",
    "    min_error = 10\n",
    "    for id1 in range(70):\n",
    "        if id0 == id1:\n",
    "            continue\n",
    "        i = [index for index,id in enumerate(identifiers0) if id[2] == id0]\n",
    "        j = [index for index,id in enumerate(identifiers0) if id[2] == id1]\n",
    "        if i and j:\n",
    "            error = distances0[i,j]\n",
    "        else:\n",
    "            continue\n",
    "        if error <= min_error:\n",
    "            min_error = error\n",
    "            best_id = id1\n",
    "    if (id0,best_id) in pair_list:\n",
    "        best_matches.append((id0,best_id))\n",
    "    elif (best_id,id0) in pair_list:\n",
    "        best_matches.append((best_id,id0))\n",
    "    else:\n",
    "        print(id0,best_id,min_error)\n",
    "print(len(best_matches))"
   ]
  },
  {
   "cell_type": "code",
   "execution_count": 979,
   "id": "189e1c08",
   "metadata": {},
   "outputs": [
    {
     "data": {
      "text/plain": [
       "[(3, 23),\n",
       " (8, 17),\n",
       " (11, 62),\n",
       " (14, 27),\n",
       " (8, 17),\n",
       " (19, 29),\n",
       " (20, 35),\n",
       " (3, 23),\n",
       " (14, 27),\n",
       " (19, 29),\n",
       " (12, 31),\n",
       " (20, 35),\n",
       " (36, 45),\n",
       " (41, 56),\n",
       " (43, 69),\n",
       " (19, 44),\n",
       " (37, 45),\n",
       " (47, 55),\n",
       " (53, 58),\n",
       " (57, 62),\n",
       " (58, 68),\n",
       " (57, 62),\n",
       " (66, 67),\n",
       " (66, 67),\n",
       " (58, 68),\n",
       " (43, 69)]"
      ]
     },
     "execution_count": 979,
     "metadata": {},
     "output_type": "execute_result"
    }
   ],
   "source": [
    "best_matches"
   ]
  },
  {
   "cell_type": "code",
   "execution_count": 944,
   "id": "2d85cdb4",
   "metadata": {},
   "outputs": [
    {
     "name": "stdout",
     "output_type": "stream",
     "text": [
      "58\n"
     ]
    }
   ],
   "source": [
    "labels = fcluster(linked0, t=3.5, criterion='distance')\n",
    "print(len(np.unique(labels)))"
   ]
  },
  {
   "cell_type": "code",
   "execution_count": null,
   "id": "6ea62543",
   "metadata": {},
   "outputs": [
    {
     "data": {
      "text/plain": [
       "44"
      ]
     },
     "execution_count": 947,
     "metadata": {},
     "output_type": "execute_result"
    }
   ],
   "source": []
  },
  {
   "cell_type": "code",
   "execution_count": 945,
   "id": "61d5cdaa",
   "metadata": {},
   "outputs": [
    {
     "name": "stdout",
     "output_type": "stream",
     "text": [
      "The ones with label 6\n",
      "[18 28]\n",
      "[(104, 'door', 19), (104, 'door', 29)]\n",
      "The ones with label 29\n",
      "[10 51 54]\n",
      "[(0, 'Unknown', 11), (0, 'Unknown', 57), (0, 'Unknown', 62)]\n",
      "The ones with label 34\n",
      "[58 59]\n",
      "[(132, 'couch', 66), (132, 'couch', 67)]\n",
      "The ones with label 36\n",
      "[40 61]\n",
      "[(137, 'wardrobe', 43), (137, 'wardrobe', 69)]\n"
     ]
    }
   ],
   "source": [
    "for i in np.unique(labels):\n",
    "    indices = np.where(labels==i)[0]\n",
    "    if len(indices)>1:\n",
    "        print(f\"The ones with label {i}\")\n",
    "        print(indices)\n",
    "        object_labels = [identifiers0[idx] for idx in indices]\n",
    "        print(object_labels)\n",
    "        \n",
    "         "
   ]
  },
  {
   "cell_type": "code",
   "execution_count": 837,
   "id": "21f74f55",
   "metadata": {},
   "outputs": [
    {
     "data": {
      "image/png": "[encoded data removed]",
      "text/plain": [
       "<Figure size 1440x1008 with 1 Axes>"
      ]
     },
     "metadata": {
      "needs_background": "light"
     },
     "output_type": "display_data"
    }
   ],
   "source": [
    "from sklearn.preprocessing import normalize\n",
    "from scipy.cluster.hierarchy import dendrogram, linkage\n",
    "from scipy.spatial.distance import pdist\n",
    "normalized_representative_vectors = normalize(representative_vectors, axis=1, norm='l2')\n",
    "dist_matrix_euclidean = pdist(representative_vectors,metric=\"euclidean\")\n",
    "dist_matrix_cosine = pdist(representative_vectors,metric=\"cosine\")\n",
    "\n",
    "linked_euclidean = linkage(dist_matrix_euclidean, 'ward')\n",
    "linked_cosine = linkage(dist_matrix_cosine, 'ward')\n",
    "\n",
    "# Plot the dendrograms\n",
    "plt.figure(figsize=(20, 14))\n",
    "plt.title(\"Hierarchical Clustering Dendrogram (Euclidean)\")\n",
    "dendrogram(linked_euclidean, orientation='top', distance_sort='descending', show_leaf_counts=True)\n",
    "# make the x axis labels larger\n",
    "plt.xticks(fontsize=10)\n",
    "plt.show()\n"
   ]
  },
  {
   "cell_type": "code",
   "execution_count": 814,
   "id": "fcfc183b",
   "metadata": {},
   "outputs": [
    {
     "data": {
      "text/plain": [
       "37"
      ]
     },
     "execution_count": 814,
     "metadata": {},
     "output_type": "execute_result"
    }
   ],
   "source": [
    "len(index_dict.keys())"
   ]
  },
  {
   "cell_type": "code",
   "execution_count": 949,
   "id": "9698b598",
   "metadata": {},
   "outputs": [
    {
     "name": "stdout",
     "output_type": "stream",
     "text": [
      "45\n"
     ]
    }
   ],
   "source": [
    "from itertools import combinations\n",
    "pair_list = []\n",
    "for key, values in index_dict.items():\n",
    "    pairs = combinations(values, 2)  # all unordered pairs\n",
    "    pair_list.extend(pair for pair in pairs)\n",
    "\n",
    "print(len(pair_list))"
   ]
  },
  {
   "cell_type": "code",
   "execution_count": 738,
   "id": "6ff71b34",
   "metadata": {},
   "outputs": [
    {
     "data": {
      "text/plain": [
       "'door'"
      ]
     },
     "execution_count": 738,
     "metadata": {},
     "output_type": "execute_result"
    }
   ],
   "source": [
    "semantic_map.instance_id_to_name[47]"
   ]
  },
  {
   "cell_type": "code",
   "execution_count": null,
   "id": "d0e0e318",
   "metadata": {},
   "outputs": [
    {
     "name": "stdout",
     "output_type": "stream",
     "text": [
      "[49, 54, 59, 66, 67]\n"
     ]
    }
   ],
   "source": [
    "index_dict = {}\n",
    "for idx, obj_id, _ in final_labels:\n",
    "    if obj_id not in index_dict.keys():\n",
    "        index_dict[obj_id] = [idx]\n",
    "    else:\n",
    "        index_dict[obj_id].append(idx)\n"
   ]
  },
  {
   "cell_type": "code",
   "execution_count": 1284,
   "id": "0d8823ae",
   "metadata": {},
   "outputs": [],
   "source": [
    "for idx,labels in enumerate(short_grouped_set):\n",
    "    output_folder = f\"./outputs/{idx}\"\n",
    "    if not os.path.exists(output_folder):\n",
    "        os.mkdir(output_folder)\n",
    "    for img_id,mask_id in labels: \n",
    "        rgb_img = semantic_map.rgb_observations[img_id].copy()\n",
    "        mask = semantic_map.refined_prediction_masks[img_id][mask_id]\n",
    "        kernel = np.ones((3, 3), np.uint8)\n",
    "        dilated_mask = cv2.dilate(mask,kernel,iterations=1)\n",
    "        edges = dilated_mask - mask\n",
    "        rgb_img[edges==1] = [255,0,0]\n",
    "        res = cv2.cvtColor(rgb_img,cv2.COLOR_RGB2BGR)\n",
    "        try:\n",
    "            image_path = os.path.join(output_folder,f\"{img_id}_{mask_id}_{semantic_map.gt_pred_correspondences[img_id][mask_id][0]}.png\")\n",
    "        except:\n",
    "            image_path = os.path.join(output_folder,f\"{img_id}_{mask_id}.png\")\n",
    "        cv2.imwrite(image_path,res)"
   ]
  },
  {
   "cell_type": "code",
   "execution_count": null,
   "id": "48ca4c81",
   "metadata": {},
   "outputs": [],
   "source": [
    "semantic_map.gt_pred_correspondences"
   ]
  },
  {
   "cell_type": "code",
   "execution_count": null,
   "id": "a6f9bbe9",
   "metadata": {},
   "outputs": [],
   "source": [
    "counter = 0\n",
    "for node0,mask0,node1,mask1 in object_matches:\n",
    "    rgb_img0 = semantic_map.rgb_observations[node0].copy()\n",
    "    mask = semantic_map.refined_prediction_masks[node0][mask0]\n",
    "    kernel = np.ones((3, 3), np.uint8)\n",
    "    dilated_mask = cv2.dilate(mask,kernel,iterations=1)\n",
    "    edges = dilated_mask - mask\n",
    "    rgb_img0[edges==1] = [255,0,0]\n",
    "    rgb_img1 = semantic_map.rgb_observations[node1].copy()\n",
    "    mask = semantic_map.refined_prediction_masks[node1][mask1]\n",
    "    kernel = np.ones((3, 3), np.uint8)\n",
    "    dilated_mask = cv2.dilate(mask,kernel,iterations=1)\n",
    "    edges = dilated_mask - mask\n",
    "    rgb_img1[edges==1] = [255,0,0]\n",
    "    res = np.vstack((rgb_img0,rgb_img1))\n",
    "    plt.imshow(res)\n",
    "    plt.show()\n",
    "    counter+=1\n",
    "    if counter>10:\n",
    "        break\n",
    "    "
   ]
  },
  {
   "cell_type": "code",
   "execution_count": 1169,
   "id": "0bcaed22",
   "metadata": {},
   "outputs": [],
   "source": [
    "from collections import defaultdict\n",
    "import networkx as nx\n",
    "import matplotlib.pyplot as plt\n",
    "\n",
    "def find_disconnected_subgraphs(edge_list):\n",
    "    # Build graph as an adjacency list\n",
    "    graph = defaultdict(list)\n",
    "    nodes = set()\n",
    "    \n",
    "    for src, dest in edge_list:\n",
    "        graph[src].append(dest)\n",
    "        graph[dest].append(src)  # Assuming an undirected graph\n",
    "        nodes.update([src, dest])\n",
    "    \n",
    "    visited = set()\n",
    "    subgraphs = []\n",
    "    \n",
    "    def dfs(node, subgraph):\n",
    "        stack = [node]\n",
    "        while stack:\n",
    "            current = stack.pop()\n",
    "            if current not in visited:\n",
    "                visited.add(current)\n",
    "                subgraph.append(current)\n",
    "                stack.extend(graph[current])\n",
    "    \n",
    "    for node in nodes:\n",
    "        if node not in visited:\n",
    "            subgraph = []\n",
    "            dfs(node, subgraph)\n",
    "            subgraphs.append(subgraph)\n",
    "    \n",
    "    return subgraphs"
   ]
  },
  {
   "cell_type": "code",
   "execution_count": 1175,
   "id": "f4fb16d6",
   "metadata": {},
   "outputs": [],
   "source": [
    "def visualize_subgraphs(edge_list):\n",
    "    G = nx.Graph()\n",
    "    G.add_edges_from(edge_list)\n",
    "    \n",
    "    # Get disconnected subgraphs\n",
    "    subgraphs = list(nx.connected_components(G))\n",
    "\n",
    "    return subgraphs"
   ]
  },
  {
   "cell_type": "code",
   "execution_count": 1199,
   "id": "eb41abfb",
   "metadata": {},
   "outputs": [],
   "source": [
    "import community\n",
    "\n",
    "def cut_subgraph(edge_list):\n",
    "    G = nx.Graph()\n",
    "    G.add_edges_from(edge_list)\n",
    "    print(len(G.nodes))\n",
    "    partition = community.best_partition(G)\n",
    "\n",
    "    communities = defaultdict(list)\n",
    "    for node, comm_id in partition.items():\n",
    "        communities[comm_id].append(node)\n",
    "\n",
    "    # Step 5: Create subgraphs from communities\n",
    "    subgraphs = [G.subgraph(nodes) for nodes in communities.values()]\n",
    "\n",
    "        # Assign a color to each community\n",
    "    colors = [partition[n] for n in G.nodes()]\n",
    "\n",
    "    pos = nx.spring_layout(G, seed=42)\n",
    "    nx.draw(G, pos, with_labels=True, node_color=colors, cmap=plt.cm.Set3)\n",
    "    plt.title(\"Louvain Community Detection\")\n",
    "    plt.show()\n",
    "    \n",
    "    return subgraphs\n",
    "    "
   ]
  },
  {
   "cell_type": "code",
   "execution_count": 1183,
   "id": "3dda754e",
   "metadata": {},
   "outputs": [
    {
     "name": "stdout",
     "output_type": "stream",
     "text": [
      "Collecting python-louvain\n",
      "  Downloading python-louvain-0.16.tar.gz (204 kB)\n",
      "  Preparing metadata (setup.py): started\n",
      "  Preparing metadata (setup.py): finished with status 'done'\n",
      "Requirement already satisfied: networkx in c:\\users\\afiyet olsun\\appdata\\local\\programs\\python\\python310\\lib\\site-packages (from python-louvain) (3.0)\n",
      "Requirement already satisfied: numpy in c:\\users\\afiyet olsun\\appdata\\local\\programs\\python\\python310\\lib\\site-packages (from python-louvain) (1.26.4)\n",
      "Building wheels for collected packages: python-louvain\n",
      "  Building wheel for python-louvain (setup.py): started\n",
      "  Building wheel for python-louvain (setup.py): finished with status 'done'\n",
      "  Created wheel for python-louvain: filename=python_louvain-0.16-py3-none-any.whl size=9418 sha256=c589b2c37c16c2642df776c3ca79d2dcbc865c28d39de421873b340013bffa11\n",
      "  Stored in directory: c:\\users\\afiyet olsun\\appdata\\local\\pip\\cache\\wheels\\d0\\b0\\d7\\6dd26c3817810fa379088eaeb755a01d9a2a411c37632079d1\n",
      "Successfully built python-louvain\n",
      "Installing collected packages: python-louvain\n",
      "Successfully installed python-louvain-0.16\n"
     ]
    },
    {
     "name": "stderr",
     "output_type": "stream",
     "text": [
      "  DEPRECATION: Building 'python-louvain' using the legacy setup.py bdist_wheel mechanism, which will be removed in a future version. pip 25.3 will enforce this behaviour change. A possible replacement is to use the standardized build interface by setting the `--use-pep517` option, (possibly combined with `--no-build-isolation`), or adding a `pyproject.toml` file to the source tree of 'python-louvain'. Discussion can be found at https://github.com/pypa/pip/issues/6334\n"
     ]
    }
   ],
   "source": [
    "!python -m pip install python-louvain\n",
    " "
   ]
  },
  {
   "cell_type": "code",
   "execution_count": 1208,
   "id": "e5fa6080",
   "metadata": {},
   "outputs": [
    {
     "name": "stdout",
     "output_type": "stream",
     "text": [
      "268\n",
      "5024\n"
     ]
    }
   ],
   "source": [
    "edges = []\n",
    "nodes = []\n",
    "for node in subgraphs[0]:\n",
    "    nodes.append(node)\n",
    "    for match in object_list:\n",
    "        if node in match:\n",
    "            edges.append(match)\n",
    "print(len(nodes))\n",
    "print(len(edges))"
   ]
  },
  {
   "cell_type": "code",
   "execution_count": 1209,
   "id": "74b50027",
   "metadata": {},
   "outputs": [],
   "source": [
    "# Create an undirected graph (use DiGraph() for directed)\n",
    "G = nx.Graph()\n",
    "\n",
    "# Add nodes and edges\n",
    "G.add_nodes_from(nodes)\n",
    "G.add_edges_from(edges)"
   ]
  },
  {
   "cell_type": "code",
   "execution_count": 1210,
   "id": "babd1874",
   "metadata": {},
   "outputs": [
    {
     "data": {
      "image/png": "[encoded data removed]",
      "text/plain": [
       "<Figure size 432x288 with 1 Axes>"
      ]
     },
     "metadata": {},
     "output_type": "display_data"
    }
   ],
   "source": [
    "nx.draw(G, with_labels=True, node_color='lightblue', edge_color='gray')\n",
    "plt.show()"
   ]
  },
  {
   "cell_type": "code",
   "execution_count": 1211,
   "id": "6ed2e232",
   "metadata": {},
   "outputs": [],
   "source": [
    "partition = community.best_partition(G)\n",
    "\n",
    "# Group nodes into subgraphs\n",
    "from collections import defaultdict\n",
    "clusters = defaultdict(list)\n",
    "for node, group in partition.items():\n",
    "    clusters[group].append(node)\n",
    "\n",
    "small_subgraphs = [G.subgraph(nodes) for nodes in clusters.values()]"
   ]
  },
  {
   "cell_type": "code",
   "execution_count": 1215,
   "id": "668d2cb6",
   "metadata": {},
   "outputs": [],
   "source": [
    "idx = 13\n",
    "for i in small_subgraphs:\n",
    "    output_folder = f\"./outputs/{idx}\"\n",
    "    if not os.path.exists(output_folder):\n",
    "        os.mkdir(output_folder)\n",
    "    for img_id,mask_id in i.nodes: \n",
    "        rgb_img = semantic_map.rgb_observations[img_id].copy()\n",
    "        mask = semantic_map.refined_prediction_masks[img_id][mask_id]\n",
    "        kernel = np.ones((3, 3), np.uint8)\n",
    "        dilated_mask = cv2.dilate(mask,kernel,iterations=1)\n",
    "        edges = dilated_mask - mask\n",
    "        rgb_img[edges==1] = [255,0,0]\n",
    "        res = cv2.cvtColor(rgb_img,cv2.COLOR_RGB2BGR)\n",
    "        try:\n",
    "            image_path = os.path.join(output_folder,f\"{img_id}_{mask_id}_{semantic_map.gt_pred_correspondences[img_id][mask_id][0]}.png\")\n",
    "        except:\n",
    "            image_path = os.path.join(output_folder,f\"{img_id}_{mask_id}.png\")\n",
    "        cv2.imwrite(image_path,res)\n",
    "    idx += 1"
   ]
  },
  {
   "cell_type": "code",
   "execution_count": null,
   "id": "a817d6e0",
   "metadata": {},
   "outputs": [],
   "source": []
  }
 ],
 "metadata": {
  "kernelspec": {
   "display_name": "Python 3",
   "language": "python",
   "name": "python3"
  },
  "language_info": {
   "codemirror_mode": {
    "name": "ipython",
    "version": 3
   },
   "file_extension": ".py",
   "mimetype": "text/x-python",
   "name": "python",
   "nbconvert_exporter": "python",
   "pygments_lexer": "ipython3",
   "version": "3.10.2"
  }
 },
 "nbformat": 4,
 "nbformat_minor": 5
}
